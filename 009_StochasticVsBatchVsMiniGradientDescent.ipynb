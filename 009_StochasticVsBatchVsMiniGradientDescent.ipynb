{
  "nbformat": 4,
  "nbformat_minor": 0,
  "metadata": {
    "colab": {
      "provenance": [],
      "authorship_tag": "ABX9TyMn6YkuVvq2giijtqKvTU7s",
      "include_colab_link": true
    },
    "kernelspec": {
      "name": "python3",
      "display_name": "Python 3"
    },
    "language_info": {
      "name": "python"
    }
  },
  "cells": [
    {
      "cell_type": "markdown",
      "metadata": {
        "id": "view-in-github",
        "colab_type": "text"
      },
      "source": [
        "<a href=\"https://colab.research.google.com/github/deepak1195/DeepLearning/blob/main/009_StochasticVsBatchVsMiniGradientDescent.ipynb\" target=\"_parent\"><img src=\"https://colab.research.google.com/assets/colab-badge.svg\" alt=\"Open In Colab\"/></a>"
      ]
    },
    {
      "cell_type": "code",
      "execution_count": null,
      "metadata": {
        "id": "o0kzx3E4UPoC"
      },
      "outputs": [],
      "source": [
        "import numpy as np\n",
        "import pandas as pd\n",
        "\n",
        "import tensorflow as tf\n",
        "from tensorflow import keras\n",
        "\n",
        "import plotly.express as px\n",
        "import plotly.graph_objects as go\n",
        "\n",
        "import random"
      ]
    },
    {
      "cell_type": "code",
      "source": [
        "from google.colab import drive\n",
        "drive.mount('/content/drive')\n",
        "path=\"/content/drive/MyDrive/Study/Data/\""
      ],
      "metadata": {
        "colab": {
          "base_uri": "https://localhost:8080/"
        },
        "id": "FLBz7hgu8Qy8",
        "outputId": "9a649491-b218-42ce-ca4a-bad0f68d8a2e"
      },
      "execution_count": null,
      "outputs": [
        {
          "output_type": "stream",
          "name": "stdout",
          "text": [
            "Mounted at /content/drive\n"
          ]
        }
      ]
    },
    {
      "cell_type": "code",
      "source": [
        "df=pd.read_csv(f'{path}housePrices.csv')\n",
        "df"
      ],
      "metadata": {
        "colab": {
          "base_uri": "https://localhost:8080/",
          "height": 677
        },
        "id": "S0gRQZVi8Ufj",
        "outputId": "df70c558-ff51-417f-f793-aa9f41e4ca83"
      },
      "execution_count": null,
      "outputs": [
        {
          "output_type": "execute_result",
          "data": {
            "text/plain": [
              "    area  bedrooms   price\n",
              "0   1056         2   39.07\n",
              "1   2600         4  120.00\n",
              "2   1440         3   62.00\n",
              "3   1521         3   75.00\n",
              "4   1200         2   51.00\n",
              "5   1170         2   38.00\n",
              "6   2732         4  135.00\n",
              "7   3300         4  155.00\n",
              "8   1310         3   50.00\n",
              "9   3700         5  167.00\n",
              "10  1800         3   82.00\n",
              "11  2785         4  140.00\n",
              "12  1000         2   38.00\n",
              "13  1100         2   40.00\n",
              "14  2250         3  101.00\n",
              "15  1175         2   42.00\n",
              "16  1180         3   48.00\n",
              "17  1540         3   60.00\n",
              "18  2770         3  102.00\n",
              "19   800         1   32.00"
            ],
            "text/html": [
              "\n",
              "  <div id=\"df-8d04e55a-ff18-4b03-9e83-e32bcac4d149\">\n",
              "    <div class=\"colab-df-container\">\n",
              "      <div>\n",
              "<style scoped>\n",
              "    .dataframe tbody tr th:only-of-type {\n",
              "        vertical-align: middle;\n",
              "    }\n",
              "\n",
              "    .dataframe tbody tr th {\n",
              "        vertical-align: top;\n",
              "    }\n",
              "\n",
              "    .dataframe thead th {\n",
              "        text-align: right;\n",
              "    }\n",
              "</style>\n",
              "<table border=\"1\" class=\"dataframe\">\n",
              "  <thead>\n",
              "    <tr style=\"text-align: right;\">\n",
              "      <th></th>\n",
              "      <th>area</th>\n",
              "      <th>bedrooms</th>\n",
              "      <th>price</th>\n",
              "    </tr>\n",
              "  </thead>\n",
              "  <tbody>\n",
              "    <tr>\n",
              "      <th>0</th>\n",
              "      <td>1056</td>\n",
              "      <td>2</td>\n",
              "      <td>39.07</td>\n",
              "    </tr>\n",
              "    <tr>\n",
              "      <th>1</th>\n",
              "      <td>2600</td>\n",
              "      <td>4</td>\n",
              "      <td>120.00</td>\n",
              "    </tr>\n",
              "    <tr>\n",
              "      <th>2</th>\n",
              "      <td>1440</td>\n",
              "      <td>3</td>\n",
              "      <td>62.00</td>\n",
              "    </tr>\n",
              "    <tr>\n",
              "      <th>3</th>\n",
              "      <td>1521</td>\n",
              "      <td>3</td>\n",
              "      <td>75.00</td>\n",
              "    </tr>\n",
              "    <tr>\n",
              "      <th>4</th>\n",
              "      <td>1200</td>\n",
              "      <td>2</td>\n",
              "      <td>51.00</td>\n",
              "    </tr>\n",
              "    <tr>\n",
              "      <th>5</th>\n",
              "      <td>1170</td>\n",
              "      <td>2</td>\n",
              "      <td>38.00</td>\n",
              "    </tr>\n",
              "    <tr>\n",
              "      <th>6</th>\n",
              "      <td>2732</td>\n",
              "      <td>4</td>\n",
              "      <td>135.00</td>\n",
              "    </tr>\n",
              "    <tr>\n",
              "      <th>7</th>\n",
              "      <td>3300</td>\n",
              "      <td>4</td>\n",
              "      <td>155.00</td>\n",
              "    </tr>\n",
              "    <tr>\n",
              "      <th>8</th>\n",
              "      <td>1310</td>\n",
              "      <td>3</td>\n",
              "      <td>50.00</td>\n",
              "    </tr>\n",
              "    <tr>\n",
              "      <th>9</th>\n",
              "      <td>3700</td>\n",
              "      <td>5</td>\n",
              "      <td>167.00</td>\n",
              "    </tr>\n",
              "    <tr>\n",
              "      <th>10</th>\n",
              "      <td>1800</td>\n",
              "      <td>3</td>\n",
              "      <td>82.00</td>\n",
              "    </tr>\n",
              "    <tr>\n",
              "      <th>11</th>\n",
              "      <td>2785</td>\n",
              "      <td>4</td>\n",
              "      <td>140.00</td>\n",
              "    </tr>\n",
              "    <tr>\n",
              "      <th>12</th>\n",
              "      <td>1000</td>\n",
              "      <td>2</td>\n",
              "      <td>38.00</td>\n",
              "    </tr>\n",
              "    <tr>\n",
              "      <th>13</th>\n",
              "      <td>1100</td>\n",
              "      <td>2</td>\n",
              "      <td>40.00</td>\n",
              "    </tr>\n",
              "    <tr>\n",
              "      <th>14</th>\n",
              "      <td>2250</td>\n",
              "      <td>3</td>\n",
              "      <td>101.00</td>\n",
              "    </tr>\n",
              "    <tr>\n",
              "      <th>15</th>\n",
              "      <td>1175</td>\n",
              "      <td>2</td>\n",
              "      <td>42.00</td>\n",
              "    </tr>\n",
              "    <tr>\n",
              "      <th>16</th>\n",
              "      <td>1180</td>\n",
              "      <td>3</td>\n",
              "      <td>48.00</td>\n",
              "    </tr>\n",
              "    <tr>\n",
              "      <th>17</th>\n",
              "      <td>1540</td>\n",
              "      <td>3</td>\n",
              "      <td>60.00</td>\n",
              "    </tr>\n",
              "    <tr>\n",
              "      <th>18</th>\n",
              "      <td>2770</td>\n",
              "      <td>3</td>\n",
              "      <td>102.00</td>\n",
              "    </tr>\n",
              "    <tr>\n",
              "      <th>19</th>\n",
              "      <td>800</td>\n",
              "      <td>1</td>\n",
              "      <td>32.00</td>\n",
              "    </tr>\n",
              "  </tbody>\n",
              "</table>\n",
              "</div>\n",
              "      <button class=\"colab-df-convert\" onclick=\"convertToInteractive('df-8d04e55a-ff18-4b03-9e83-e32bcac4d149')\"\n",
              "              title=\"Convert this dataframe to an interactive table.\"\n",
              "              style=\"display:none;\">\n",
              "        \n",
              "  <svg xmlns=\"http://www.w3.org/2000/svg\" height=\"24px\"viewBox=\"0 0 24 24\"\n",
              "       width=\"24px\">\n",
              "    <path d=\"M0 0h24v24H0V0z\" fill=\"none\"/>\n",
              "    <path d=\"M18.56 5.44l.94 2.06.94-2.06 2.06-.94-2.06-.94-.94-2.06-.94 2.06-2.06.94zm-11 1L8.5 8.5l.94-2.06 2.06-.94-2.06-.94L8.5 2.5l-.94 2.06-2.06.94zm10 10l.94 2.06.94-2.06 2.06-.94-2.06-.94-.94-2.06-.94 2.06-2.06.94z\"/><path d=\"M17.41 7.96l-1.37-1.37c-.4-.4-.92-.59-1.43-.59-.52 0-1.04.2-1.43.59L10.3 9.45l-7.72 7.72c-.78.78-.78 2.05 0 2.83L4 21.41c.39.39.9.59 1.41.59.51 0 1.02-.2 1.41-.59l7.78-7.78 2.81-2.81c.8-.78.8-2.07 0-2.86zM5.41 20L4 18.59l7.72-7.72 1.47 1.35L5.41 20z\"/>\n",
              "  </svg>\n",
              "      </button>\n",
              "      \n",
              "  <style>\n",
              "    .colab-df-container {\n",
              "      display:flex;\n",
              "      flex-wrap:wrap;\n",
              "      gap: 12px;\n",
              "    }\n",
              "\n",
              "    .colab-df-convert {\n",
              "      background-color: #E8F0FE;\n",
              "      border: none;\n",
              "      border-radius: 50%;\n",
              "      cursor: pointer;\n",
              "      display: none;\n",
              "      fill: #1967D2;\n",
              "      height: 32px;\n",
              "      padding: 0 0 0 0;\n",
              "      width: 32px;\n",
              "    }\n",
              "\n",
              "    .colab-df-convert:hover {\n",
              "      background-color: #E2EBFA;\n",
              "      box-shadow: 0px 1px 2px rgba(60, 64, 67, 0.3), 0px 1px 3px 1px rgba(60, 64, 67, 0.15);\n",
              "      fill: #174EA6;\n",
              "    }\n",
              "\n",
              "    [theme=dark] .colab-df-convert {\n",
              "      background-color: #3B4455;\n",
              "      fill: #D2E3FC;\n",
              "    }\n",
              "\n",
              "    [theme=dark] .colab-df-convert:hover {\n",
              "      background-color: #434B5C;\n",
              "      box-shadow: 0px 1px 3px 1px rgba(0, 0, 0, 0.15);\n",
              "      filter: drop-shadow(0px 1px 2px rgba(0, 0, 0, 0.3));\n",
              "      fill: #FFFFFF;\n",
              "    }\n",
              "  </style>\n",
              "\n",
              "      <script>\n",
              "        const buttonEl =\n",
              "          document.querySelector('#df-8d04e55a-ff18-4b03-9e83-e32bcac4d149 button.colab-df-convert');\n",
              "        buttonEl.style.display =\n",
              "          google.colab.kernel.accessAllowed ? 'block' : 'none';\n",
              "\n",
              "        async function convertToInteractive(key) {\n",
              "          const element = document.querySelector('#df-8d04e55a-ff18-4b03-9e83-e32bcac4d149');\n",
              "          const dataTable =\n",
              "            await google.colab.kernel.invokeFunction('convertToInteractive',\n",
              "                                                     [key], {});\n",
              "          if (!dataTable) return;\n",
              "\n",
              "          const docLinkHtml = 'Like what you see? Visit the ' +\n",
              "            '<a target=\"_blank\" href=https://colab.research.google.com/notebooks/data_table.ipynb>data table notebook</a>'\n",
              "            + ' to learn more about interactive tables.';\n",
              "          element.innerHTML = '';\n",
              "          dataTable['output_type'] = 'display_data';\n",
              "          await google.colab.output.renderOutput(dataTable, element);\n",
              "          const docLink = document.createElement('div');\n",
              "          docLink.innerHTML = docLinkHtml;\n",
              "          element.appendChild(docLink);\n",
              "        }\n",
              "      </script>\n",
              "    </div>\n",
              "  </div>\n",
              "  "
            ]
          },
          "metadata": {},
          "execution_count": 3
        }
      ]
    },
    {
      "cell_type": "code",
      "source": [
        "def scaling(sDf):\n",
        "  for f in sDf:\n",
        "    sDf[f]=(sDf[f]-sDf[f].min())/(sDf[f].max()-sDf[f].min())\n",
        "  return sDf"
      ],
      "metadata": {
        "id": "bc2TGAPO8gwN"
      },
      "execution_count": null,
      "outputs": []
    },
    {
      "cell_type": "code",
      "source": [
        "def trainTestSplit(mDf,yCol,sF=0.2):\n",
        "  import random\n",
        "  mDf=scaling(mDf.copy())\n",
        "  idx=random.sample(range(0, mDf.shape[0]),int(mDf.shape[0]*(1-sF)))\n",
        "  train=mDf[df.index.isin(idx)]\n",
        "  test=mDf[~df.index.isin(idx)]\n",
        "  xCol=mDf.columns[~mDf.columns.isin([yCol])]\n",
        "  return train[xCol],train[yCol],test[xCol],test[yCol]\n",
        "\n",
        "xTrain,yTrain,xTest,yTest=trainTestSplit(df,'price',sF=0.2)"
      ],
      "metadata": {
        "id": "hLgEGOsr-Q8N"
      },
      "execution_count": null,
      "outputs": []
    },
    {
      "cell_type": "code",
      "source": [
        "xTrain"
      ],
      "metadata": {
        "colab": {
          "base_uri": "https://localhost:8080/",
          "height": 551
        },
        "id": "aP3_DByjTPgN",
        "outputId": "1e410015-7140-44c7-9c5d-69ededcfd074"
      },
      "execution_count": null,
      "outputs": [
        {
          "output_type": "execute_result",
          "data": {
            "text/plain": [
              "        area  bedrooms\n",
              "0   0.088276      0.25\n",
              "1   0.620690      0.75\n",
              "3   0.248621      0.50\n",
              "4   0.137931      0.25\n",
              "7   0.862069      0.75\n",
              "8   0.175862      0.50\n",
              "9   1.000000      1.00\n",
              "10  0.344828      0.50\n",
              "11  0.684483      0.75\n",
              "12  0.068966      0.25\n",
              "14  0.500000      0.50\n",
              "15  0.129310      0.25\n",
              "16  0.131034      0.50\n",
              "17  0.255172      0.50\n",
              "18  0.679310      0.50\n",
              "19  0.000000      0.00"
            ],
            "text/html": [
              "\n",
              "  <div id=\"df-ccdf06d9-91ee-4ad3-a4a7-75625b2b0dd2\">\n",
              "    <div class=\"colab-df-container\">\n",
              "      <div>\n",
              "<style scoped>\n",
              "    .dataframe tbody tr th:only-of-type {\n",
              "        vertical-align: middle;\n",
              "    }\n",
              "\n",
              "    .dataframe tbody tr th {\n",
              "        vertical-align: top;\n",
              "    }\n",
              "\n",
              "    .dataframe thead th {\n",
              "        text-align: right;\n",
              "    }\n",
              "</style>\n",
              "<table border=\"1\" class=\"dataframe\">\n",
              "  <thead>\n",
              "    <tr style=\"text-align: right;\">\n",
              "      <th></th>\n",
              "      <th>area</th>\n",
              "      <th>bedrooms</th>\n",
              "    </tr>\n",
              "  </thead>\n",
              "  <tbody>\n",
              "    <tr>\n",
              "      <th>0</th>\n",
              "      <td>0.088276</td>\n",
              "      <td>0.25</td>\n",
              "    </tr>\n",
              "    <tr>\n",
              "      <th>1</th>\n",
              "      <td>0.620690</td>\n",
              "      <td>0.75</td>\n",
              "    </tr>\n",
              "    <tr>\n",
              "      <th>3</th>\n",
              "      <td>0.248621</td>\n",
              "      <td>0.50</td>\n",
              "    </tr>\n",
              "    <tr>\n",
              "      <th>4</th>\n",
              "      <td>0.137931</td>\n",
              "      <td>0.25</td>\n",
              "    </tr>\n",
              "    <tr>\n",
              "      <th>7</th>\n",
              "      <td>0.862069</td>\n",
              "      <td>0.75</td>\n",
              "    </tr>\n",
              "    <tr>\n",
              "      <th>8</th>\n",
              "      <td>0.175862</td>\n",
              "      <td>0.50</td>\n",
              "    </tr>\n",
              "    <tr>\n",
              "      <th>9</th>\n",
              "      <td>1.000000</td>\n",
              "      <td>1.00</td>\n",
              "    </tr>\n",
              "    <tr>\n",
              "      <th>10</th>\n",
              "      <td>0.344828</td>\n",
              "      <td>0.50</td>\n",
              "    </tr>\n",
              "    <tr>\n",
              "      <th>11</th>\n",
              "      <td>0.684483</td>\n",
              "      <td>0.75</td>\n",
              "    </tr>\n",
              "    <tr>\n",
              "      <th>12</th>\n",
              "      <td>0.068966</td>\n",
              "      <td>0.25</td>\n",
              "    </tr>\n",
              "    <tr>\n",
              "      <th>14</th>\n",
              "      <td>0.500000</td>\n",
              "      <td>0.50</td>\n",
              "    </tr>\n",
              "    <tr>\n",
              "      <th>15</th>\n",
              "      <td>0.129310</td>\n",
              "      <td>0.25</td>\n",
              "    </tr>\n",
              "    <tr>\n",
              "      <th>16</th>\n",
              "      <td>0.131034</td>\n",
              "      <td>0.50</td>\n",
              "    </tr>\n",
              "    <tr>\n",
              "      <th>17</th>\n",
              "      <td>0.255172</td>\n",
              "      <td>0.50</td>\n",
              "    </tr>\n",
              "    <tr>\n",
              "      <th>18</th>\n",
              "      <td>0.679310</td>\n",
              "      <td>0.50</td>\n",
              "    </tr>\n",
              "    <tr>\n",
              "      <th>19</th>\n",
              "      <td>0.000000</td>\n",
              "      <td>0.00</td>\n",
              "    </tr>\n",
              "  </tbody>\n",
              "</table>\n",
              "</div>\n",
              "      <button class=\"colab-df-convert\" onclick=\"convertToInteractive('df-ccdf06d9-91ee-4ad3-a4a7-75625b2b0dd2')\"\n",
              "              title=\"Convert this dataframe to an interactive table.\"\n",
              "              style=\"display:none;\">\n",
              "        \n",
              "  <svg xmlns=\"http://www.w3.org/2000/svg\" height=\"24px\"viewBox=\"0 0 24 24\"\n",
              "       width=\"24px\">\n",
              "    <path d=\"M0 0h24v24H0V0z\" fill=\"none\"/>\n",
              "    <path d=\"M18.56 5.44l.94 2.06.94-2.06 2.06-.94-2.06-.94-.94-2.06-.94 2.06-2.06.94zm-11 1L8.5 8.5l.94-2.06 2.06-.94-2.06-.94L8.5 2.5l-.94 2.06-2.06.94zm10 10l.94 2.06.94-2.06 2.06-.94-2.06-.94-.94-2.06-.94 2.06-2.06.94z\"/><path d=\"M17.41 7.96l-1.37-1.37c-.4-.4-.92-.59-1.43-.59-.52 0-1.04.2-1.43.59L10.3 9.45l-7.72 7.72c-.78.78-.78 2.05 0 2.83L4 21.41c.39.39.9.59 1.41.59.51 0 1.02-.2 1.41-.59l7.78-7.78 2.81-2.81c.8-.78.8-2.07 0-2.86zM5.41 20L4 18.59l7.72-7.72 1.47 1.35L5.41 20z\"/>\n",
              "  </svg>\n",
              "      </button>\n",
              "      \n",
              "  <style>\n",
              "    .colab-df-container {\n",
              "      display:flex;\n",
              "      flex-wrap:wrap;\n",
              "      gap: 12px;\n",
              "    }\n",
              "\n",
              "    .colab-df-convert {\n",
              "      background-color: #E8F0FE;\n",
              "      border: none;\n",
              "      border-radius: 50%;\n",
              "      cursor: pointer;\n",
              "      display: none;\n",
              "      fill: #1967D2;\n",
              "      height: 32px;\n",
              "      padding: 0 0 0 0;\n",
              "      width: 32px;\n",
              "    }\n",
              "\n",
              "    .colab-df-convert:hover {\n",
              "      background-color: #E2EBFA;\n",
              "      box-shadow: 0px 1px 2px rgba(60, 64, 67, 0.3), 0px 1px 3px 1px rgba(60, 64, 67, 0.15);\n",
              "      fill: #174EA6;\n",
              "    }\n",
              "\n",
              "    [theme=dark] .colab-df-convert {\n",
              "      background-color: #3B4455;\n",
              "      fill: #D2E3FC;\n",
              "    }\n",
              "\n",
              "    [theme=dark] .colab-df-convert:hover {\n",
              "      background-color: #434B5C;\n",
              "      box-shadow: 0px 1px 3px 1px rgba(0, 0, 0, 0.15);\n",
              "      filter: drop-shadow(0px 1px 2px rgba(0, 0, 0, 0.3));\n",
              "      fill: #FFFFFF;\n",
              "    }\n",
              "  </style>\n",
              "\n",
              "      <script>\n",
              "        const buttonEl =\n",
              "          document.querySelector('#df-ccdf06d9-91ee-4ad3-a4a7-75625b2b0dd2 button.colab-df-convert');\n",
              "        buttonEl.style.display =\n",
              "          google.colab.kernel.accessAllowed ? 'block' : 'none';\n",
              "\n",
              "        async function convertToInteractive(key) {\n",
              "          const element = document.querySelector('#df-ccdf06d9-91ee-4ad3-a4a7-75625b2b0dd2');\n",
              "          const dataTable =\n",
              "            await google.colab.kernel.invokeFunction('convertToInteractive',\n",
              "                                                     [key], {});\n",
              "          if (!dataTable) return;\n",
              "\n",
              "          const docLinkHtml = 'Like what you see? Visit the ' +\n",
              "            '<a target=\"_blank\" href=https://colab.research.google.com/notebooks/data_table.ipynb>data table notebook</a>'\n",
              "            + ' to learn more about interactive tables.';\n",
              "          element.innerHTML = '';\n",
              "          dataTable['output_type'] = 'display_data';\n",
              "          await google.colab.output.renderOutput(dataTable, element);\n",
              "          const docLink = document.createElement('div');\n",
              "          docLink.innerHTML = docLinkHtml;\n",
              "          element.appendChild(docLink);\n",
              "        }\n",
              "      </script>\n",
              "    </div>\n",
              "  </div>\n",
              "  "
            ]
          },
          "metadata": {},
          "execution_count": 6
        }
      ]
    },
    {
      "cell_type": "markdown",
      "source": [
        "### Batch Gradient Descent"
      ],
      "metadata": {
        "id": "LwK_XLQGyjU3"
      }
    },
    {
      "cell_type": "code",
      "source": [
        "class BGDNN():\n",
        "  def __init__(self):\n",
        "    self.weigPlusBias=None\n",
        "    self.cost=list()\n",
        "    self.epoch=list()\n",
        "  def logLoss(self,yT,yP):\n",
        "    eplison=1e-15\n",
        "    nYp=[max(i,eplison) for i in yP]\n",
        "    nYp=np.array([min(i,1-eplison) for i in nYp])\n",
        "    return -np.mean(yT*np.log(nYp)+(1-yT)*np.log(1-nYp))\n",
        "\n",
        "  def MSE(self,true,pre):\n",
        "    return np.mean(np.square(true-pre))\n",
        "\n",
        "  def sigmoid(self,x):\n",
        "    return 1/(1+np.exp(-x))\n",
        "\n",
        "  def gradDesc(self, xT,yT,epochs,lThr):\n",
        "    ws=np.ones(xT.shape[1])\n",
        "    xs=np.array(xT.columns)\n",
        "    b=np.zeros(xT.shape[0])\n",
        "    r=0.5\n",
        "    n=len(yT)\n",
        "    for e in range(epochs):\n",
        "      eq=[b]\n",
        "      for i,j in zip(range(0,len(xs)),xs):\n",
        "        eq.append(np.array(ws[i]*xT[[j]].values).reshape([1, n])[0])\n",
        "\n",
        "      weigSum=np.sum(np.array(eq), axis = 0)\n",
        "      yP=self.sigmoid(weigSum)\n",
        "      loss=self.MSE(yT,yP)\n",
        "\n",
        "      self.cost.append(loss)\n",
        "      self.epoch.append(e)\n",
        "\n",
        "      for w,x in zip(range(len(ws)),xs):\n",
        "        ws[w]=ws[w]-r*((1/n)*np.dot(np.transpose(xT[x]),(yP-yT)))\n",
        "      b=b-r*(np.mean(yP-yT))\n",
        "\n",
        "      if e%50==0:\n",
        "        print(f\"Epoch : {e}/{epochs}| Weights : {ws}| Bias : {b[0]}| Loss : {loss}\")\n",
        "\n",
        "      if loss<=lThr:\n",
        "        print(f\"Epoch : {e}/{epochs}| Weights : {ws}| Bias : {b[0]}| Loss : {loss}\")\n",
        "        break\n",
        "\n",
        "    return np.append(ws,b[0])\n",
        "\n",
        "  def fit(self,x,y,ep,lTh=0.0):\n",
        "    self.weigPlusBias=self.gradDesc(x,y,ep,lTh)\n",
        "\n",
        "  def predict(self,xTest):\n",
        "    n=len(xTest)\n",
        "    pws=[]\n",
        "    for i,j in zip(range(0,len(xTest)),xTest):\n",
        "      pws.append(np.array(self.weigPlusBias[i]*xTest[j].values))\n",
        "\n",
        "    pws.append(np.ones(xTest.shape[0])*self.weigPlusBias[-1])\n",
        "    return self.sigmoid(np.sum(np.array(pws), axis = 0))"
      ],
      "metadata": {
        "id": "0gfgBCX7VT2f"
      },
      "execution_count": null,
      "outputs": []
    },
    {
      "cell_type": "code",
      "source": [
        "n=BGDNN()"
      ],
      "metadata": {
        "id": "bnmqU143XAW0"
      },
      "execution_count": null,
      "outputs": []
    },
    {
      "cell_type": "code",
      "source": [
        "n.fit(xTrain,yTrain,501)"
      ],
      "metadata": {
        "colab": {
          "base_uri": "https://localhost:8080/"
        },
        "id": "cKqnh3DyX5Hj",
        "outputId": "bea8c309-8c4f-441e-b53c-98edf05c3ad8"
      },
      "execution_count": null,
      "outputs": [
        {
          "output_type": "stream",
          "name": "stdout",
          "text": [
            "Epoch : 0/501| Weights : [0.97226388 0.94393762]| Bias : -0.16217610075343206| Loss : 0.15458383915260182\n",
            "Epoch : 50/501| Weights : [1.75057734 1.14856925]| Bias : -1.6974782515026878| Loss : 0.023304211016186842\n",
            "Epoch : 100/501| Weights : [2.42661362 1.5086665 ]| Bias : -2.193713491121271| Loss : 0.01130796494129961\n",
            "Epoch : 150/501| Weights : [2.88481694 1.75384346]| Bias : -2.5309844396456453| Loss : 0.006717409698502473\n",
            "Epoch : 200/501| Weights : [3.21217713 1.93299927]| Bias : -2.7741503745297442| Loss : 0.004704135110359013\n",
            "Epoch : 250/501| Weights : [3.45390953 2.07027947]| Bias : -2.9564313518881957| Loss : 0.0037514606597284553\n",
            "Epoch : 300/501| Weights : [3.63626095 2.17913349]| Bias : -3.0968286334727937| Loss : 0.0032850707164454444\n",
            "Epoch : 350/501| Weights : [3.77573689 2.26773919]| Bias : -3.2071372752039484| Loss : 0.0030574331196024057\n",
            "Epoch : 400/501| Weights : [3.88334378 2.34140044]| Bias : -3.2951389401890747| Loss : 0.002951836363675904\n",
            "Epoch : 450/501| Weights : [3.96675109 2.40372906]| Bias : -3.3662092610383496| Loss : 0.002909699298780987\n",
            "Epoch : 500/501| Weights : [4.03148596 2.45727909]| Bias : -3.424195458332145| Loss : 0.0029003398430948613\n"
          ]
        }
      ]
    },
    {
      "cell_type": "code",
      "source": [
        "px.line(x=n.epoch,y=n.cost)"
      ],
      "metadata": {
        "colab": {
          "base_uri": "https://localhost:8080/",
          "height": 542
        },
        "id": "jKz56vC3Yr2X",
        "outputId": "47d623a2-8df2-424e-c549-c949fcd3de59"
      },
      "execution_count": null,
      "outputs": [
        {
          "output_type": "display_data",
          "data": {
            "text/html": [
              "<html>\n",
              "<head><meta charset=\"utf-8\" /></head>\n",
              "<body>\n",
              "    <div>            <script src=\"https://cdnjs.cloudflare.com/ajax/libs/mathjax/2.7.5/MathJax.js?config=TeX-AMS-MML_SVG\"></script><script type=\"text/javascript\">if (window.MathJax && window.MathJax.Hub && window.MathJax.Hub.Config) {window.MathJax.Hub.Config({SVG: {font: \"STIX-Web\"}});}</script>                <script type=\"text/javascript\">window.PlotlyConfig = {MathJaxConfig: 'local'};</script>\n",
              "        <script src=\"https://cdn.plot.ly/plotly-2.18.2.min.js\"></script>                <div id=\"bc31c358-0e7b-4f7e-8986-a9819f05fa0e\" class=\"plotly-graph-div\" style=\"height:525px; width:100%;\"></div>            <script type=\"text/javascript\">                                    window.PLOTLYENV=window.PLOTLYENV || {};                                    if (document.getElementById(\"bc31c358-0e7b-4f7e-8986-a9819f05fa0e\")) {                    Plotly.newPlot(                        \"bc31c358-0e7b-4f7e-8986-a9819f05fa0e\",                        [{\"hovertemplate\":\"x=%{x}<br>y=%{y}<extra></extra>\",\"legendgroup\":\"\",\"line\":{\"color\":\"#636efa\",\"dash\":\"solid\"},\"marker\":{\"symbol\":\"circle\"},\"mode\":\"lines\",\"name\":\"\",\"orientation\":\"v\",\"showlegend\":false,\"x\":[0,1,2,3,4,5,6,7,8,9,10,11,12,13,14,15,16,17,18,19,20,21,22,23,24,25,26,27,28,29,30,31,32,33,34,35,36,37,38,39,40,41,42,43,44,45,46,47,48,49,50,51,52,53,54,55,56,57,58,59,60,61,62,63,64,65,66,67,68,69,70,71,72,73,74,75,76,77,78,79,80,81,82,83,84,85,86,87,88,89,90,91,92,93,94,95,96,97,98,99,100,101,102,103,104,105,106,107,108,109,110,111,112,113,114,115,116,117,118,119,120,121,122,123,124,125,126,127,128,129,130,131,132,133,134,135,136,137,138,139,140,141,142,143,144,145,146,147,148,149,150,151,152,153,154,155,156,157,158,159,160,161,162,163,164,165,166,167,168,169,170,171,172,173,174,175,176,177,178,179,180,181,182,183,184,185,186,187,188,189,190,191,192,193,194,195,196,197,198,199,200,201,202,203,204,205,206,207,208,209,210,211,212,213,214,215,216,217,218,219,220,221,222,223,224,225,226,227,228,229,230,231,232,233,234,235,236,237,238,239,240,241,242,243,244,245,246,247,248,249,250,251,252,253,254,255,256,257,258,259,260,261,262,263,264,265,266,267,268,269,270,271,272,273,274,275,276,277,278,279,280,281,282,283,284,285,286,287,288,289,290,291,292,293,294,295,296,297,298,299,300,301,302,303,304,305,306,307,308,309,310,311,312,313,314,315,316,317,318,319,320,321,322,323,324,325,326,327,328,329,330,331,332,333,334,335,336,337,338,339,340,341,342,343,344,345,346,347,348,349,350,351,352,353,354,355,356,357,358,359,360,361,362,363,364,365,366,367,368,369,370,371,372,373,374,375,376,377,378,379,380,381,382,383,384,385,386,387,388,389,390,391,392,393,394,395,396,397,398,399,400,401,402,403,404,405,406,407,408,409,410,411,412,413,414,415,416,417,418,419,420,421,422,423,424,425,426,427,428,429,430,431,432,433,434,435,436,437,438,439,440,441,442,443,444,445,446,447,448,449,450,451,452,453,454,455,456,457,458,459,460,461,462,463,464,465,466,467,468,469,470,471,472,473,474,475,476,477,478,479,480,481,482,483,484,485,486,487,488,489,490,491,492,493,494,495,496,497,498,499,500],\"xaxis\":\"x\",\"y\":[0.15458383915260182,0.12780335231167356,0.10689008023802543,0.09109520536321723,0.07941729061872818,0.07086915645385358,0.06461065091373251,0.05998529231704153,0.05650654533261972,0.05382567420962488,0.05169793781707558,0.049953834414642816,0.04847692330829559,0.04718760463316955,0.04603161600064569,0.0449720214927799,0.043983692441888676,0.04304952863135718,0.042157880234600764,0.04130079240514412,0.040472811375401714,0.03967017311651628,0.03889025244217293,0.03813118937782625,0.037391636171123496,0.036670586390806684,0.035967259853666625,0.03528102548348433,0.0346113499020638,0.033957763435269614,0.03331983786609716,0.03269717207551146,0.03208938294725086,0.03149609975676323,0.03091696084078519,0.030351611737326447,0.02979970425376199,0.029260896102906372,0.028734850870429422,0.028221238160337246,0.02771973382121501,0.0272300201932373,0.026751786340580654,0.026284728249918354,0.025828548985943167,0.025382958801261842,0.024947675201839666,0.024522422971327063,0.024106934158671687,0.02370094803380765,0.023304211016186842,0.02291647658065063,0.02253750514474774,0.022167063941159186,0.021804926878437172,0.0214508743928299,0.0211046932935616,0.02076617660357417,0.02043512339741515,0.020111338637675603,0.019794633011138568,0.01948482276558995,0.019181729548065695,0.018885180245158548,0.018595006825880403,0.018311046187469156,0.018033140004439716,0.017761134581103954,0.01749488070772258,0.017234233520400356,0.016979052364793745,0.016729200663665525,0.016484545788292053,0.016244958933706182,0.01601031499773993,0.015780492463816347,0.01555537328742787,0.015334842786229725,0.015118789533669401,0.014907105256068328,0.014699684733067903,0.014496425701349475,0.014297228761536386,0.014101997288185234,0.013910637342773797,0.013723057589593093,0.013539169214452359,0.013358885846106694,0.013182123480318863,0.013008800406468377,0.012838837136623003,0.012672156336989784,0.012508682761664986,0.012348343188604349,0.012191066357737507,0.012036782911152443,0.011885425335278525,0.011736927904998244,0.011591226629620803,0.011448259200652294,0.01130796494129961,0.01117028475764743,0.011035161091449372,0.010902537874476963,0.01077236048437143,0.010644575701945658,0.010519131669885481,0.010395977852801013,0.01027506499858079,0.010156345101003023,0.01003977136355991,0.009925298164452631,0.009812881022716009,0.009702476565433561,0.0095940424960048,0.00948753756342828,0.009382921532565074,0.00928015515534861,0.009179200142908212,0.009080019138574752,0.008982575691737915,0.008886834232525878,0.008792760047279078,0.008700319254790909,0.008609478783289038,0.008520206348132237,0.008432470430198154,0.008346240254938714,0.008261485772080487,0.00817817763594823,0.008096287186390503,0.008015786430287278,0.007936648023619838,0.007858845254084274,0.007782352024230352,0.007707142835108333,0.007633192770406777,0.007560477481065205,0.007488973170345796,0.007418656579349094,0.007349504972959084,0.007281496126203637,0.0072146083110166265,0.007148820283388766,0.0070841112708944914,0.007020460960582634,0.006957849487219242,0.006896257421871111,0.006835665760819151,0.0067760559147909665,0.006717409698502473,0.006659709320498749,0.006602937373284535,0.006547076823735253,0.006492111003779737,0.006438023601346024,0.006384798651562001,0.00633242052820297,0.006280873935378302,0.0062301438994498935,0.006180215761175126,0.00613107516806741,0.006082708066967631,0.006035100696819984,0.005988239581645946,0.005942111523710287,0.005896703596873365,0.00585200314012394,0.005807997751287067,0.005764675280901854,0.00572202382626383,0.005680031725627147,0.005638687552561657,0.0055979801104604114,0.005557898427192953,0.005518431749900211,0.00547956953992671,0.005441301467886079,0.005403617408855967,0.005366507437698542,0.0053299618245029046,0.005293971030145868,0.005258525701967676,0.005223616669559308,0.0051892349406582015,0.005155371697149177,0.005122018291167629,0.005089166241302063,0.005056807228893016,0.005024933094425822,0.004993535834014374,0.004962607595973419,0.004932140677476848,0.004902127521299561,0.004872560712640619,0.004843432976025313,0.004814737172284048,0.004786466295605846,0.004758613470664439,0.004731171949814915,0.004704135110359013,0.004677496451877121,0.004651249593625257,0.004625388271995108,0.004599906338035567,0.004574797755034012,0.0045500565961556945,0.004525677042139748,0.004501653379050224,0.004477979996080703,0.004454651383411076,0.004431662130115062,0.004409006922117117,0.004386680540197465,0.004364677858043939,0.004342993840349431,0.004321623540953705,0.004300562101028465,0.004279804747304505,0.00425934679033989,0.004239183622828052,0.00421931071794478,0.0041997236277331465,0.0041804179815253355,0.004161389484400426,0.0041426339156772785,0.004124147127441531,0.004105925043105909,0.004087963656002984,0.004070259028009535,0.004052807288201735,0.004035604631540435,0.004018647317585626,0.0040019316692396206,0.003985454071517926,0.003969210970347366,0.003953198871390668,0.003937414338896833,0.003921853994576744,0.0039065145165033,0.0038913926380355224,0.0038764851467660666,0.003861788883491488,0.0038473007412047834,0.0038330176641096724,0.003818936646655973,0.003805054732595769,0.0037913690140596364,0.00377787663065263,0.0037645747685694656,0.0037514606597284553,0.003738531580923758,0.0037257848529955147,0.0037132178400174007,0.003700827948501265,0.003688612626618369,0.0036765693634369006,0.0036646956881753213,0.0036529891694712345,0.0036414474146653705,0.003630068069100356,0.0036188488154339335,0.0036077873729662502,0.0035968814969809674,0.0035861289780997944,0.0035755276416501967,0.003565075347045941,0.0035547699871802028,0.0035446094878309347,0.0035345918070782568,0.0035247149347335076,0.003514976891779818,0.003505375729823825,0.0034959095305583717,0.0034865764052358765,0.0034773744941521763,0.0034683019661405842,0.003459357018075972,0.0034505378743885785,0.0034418427865874437,0.003433270032793129,0.0034248179172796166,0.003416484770025139,0.003408268946271748,0.003400168826093448,0.0033921828139726927,0.0033843093383850633,0.0033765468513919468,0.003368893828241066,0.0033613487669746657,0.0033539101880451835,0.0033465766339382842,0.0033393466688030494,0.003332218878089223,0.0033251918681912896,0.003318264266099337,0.003311434719056461,0.003304701894222641,0.003298064478344913,0.0032915211774337478,0.0032850707164454444,0.003278711838970454,0.0032724433069275236,0.0032662639002634794,0.003260172416658607,0.0032541676712374333,0.00324824849628488,0.0032424137409675915,0.00323666227106042,0.003230992968677876,0.0032254047320105224,0.00321989647506612,0.0032144671274155377,0.003209115633943216,0.00320384095460219,0.003198642064173503,0.003193517952029965,0.003188467621904169,0.003183490091660645,0.0031785843930721156,0.0031737495715997138,0.003168984686177154,0.0031642888089987095,0.0031596610253109662,0.003155100433208243,0.003150606143431655,0.0031461772791716814,0.0031418129758742433,0.003137512381050132,0.003133274654087828,0.00312909896606955,0.003124984499590538,0.003120930448581433,0.0031169360181338116,0.0031130004243286684,0.0031091228940679115,0.0031053026649087395,0.0031015389849008744,0.0030978311124265885,0.003094178316043481,0.003090579874329929,0.0030870350757331777,0.00308354321842002,0.003080103610130029,0.0030767155680312434,0.003073378418578321,0.0030700914973730876,0.0030668541490274266,0.0030636657270284653,0.0030605255936060455,0.0030574331196024057,0.003054387684344023,0.0030513886755156303,0.003048435489036277,0.0030455275289375094,0.0030426642072435214,0.0030398449438533166,0.0030370691664247974,0.0030343363102607905,0.0030316458181968934,0.0030289971404912418,0.0030263897347160137,0.0030238230656507224,0.003021296605177289,0.00301880983217677,0.0030163622324277896,0.003013953298506631,0.003011582529688926,0.0030092494318529213,0.0030069535173843477,0.00300469430508278,0.0030024713200695074,0.003000284093696914,0.0029981321634592606,0.002996015072904921,0.002993932371550016,0.002991883614793416,0.002989868363833089,0.0029878861855837918,0.002985936652596031,0.0029840193429763393,0.002982133840308794,0.0029802797335777647,0.0029784566170918667,0.002976664090409151,0.0029749017582633855,0.0029731692304915767,0.0029714661219625528,0.002969792052506691,0.002968146646846726,0.0029665295345296374,0.002964940349859584,0.0029633787318318764,0.0029618443240679634,0.002960336774751435,0.002958855736564991,0.002957400866628381,0.00295597182643729,0.0029545682818031766,0.0029531899027940094,0.002951836363675904,0.002950507342855669,0.0029492025228241995,0.002947921590100733,0.0029466642351779733,0.002945430152468004,0.002944219040249038,0.002943030600612968,0.002941864539413703,0.0029407205662162718,0.0029395983942467037,0.0029384977403426353,0.0029374183249046715,0.002936359871848468,0.0029353221085575264,0.0029343047658366705,0.002933307577866244,0.002932330282156964,0.002931372619505437,0.002930434333950351,0.0029295151727292985,0.0029286148862362202,0.0029277332279795064,0.0029268699545406873,0.0029260248255337214,0.0029251976035649047,0.0029243880541933377,0.0029235959458919804,0.0029228210500092714,0.0029220631407312963,0.0029213219950445122,0.0029205973926990135,0.0029198891161723124,0.0029191969506336497,0.002918520683908825,0.002917860106445522,0.0029172150112791373,0.0029165851939990904,0.002915970452715625,0.0029153705880270685,0.0029147854029875925,0.0029142147030753697,0.0029136582961612556,0.002913115992477857,0.0029125876045890705,0.0029120729473600345,0.002911571837927505,0.0029110840956706836,0.002910609542182394,0.0029101480012407163,0.002909699298780987,0.0029092632628682177,0.002908839723669873,0.0029084285134290443,0.002908029466438,0.002907642419012082,0.002907267209463998,0.0029069036780784386,0.0029065516670870664,0.0029062110206438535,0.0029058815848007234,0.00290556320748359,0.002905255738468674,0.0029049590293591604,0.0029046729335622063,0.0029043973062661903,0.0029041320044183756,0.0029038768867027825,0.0029036318135184265,0.002903396646957815,0.0029031712507857745,0.002902955490418516,0.0029027492329030333,0.002902552346896749,0.0029023647026474543,0.0029021861719734938,0.0029020166282442794,0.002901855946360955,0.0029017040027374576,0.002901560675281721,0.0029014258433771897,0.0029012993878645746,0.002901181191023839,0.002901071136556429,0.002900969109567733,0.002900874996549818,0.0029007886853643287,0.0029007100652256703,0.002900639026684379,0.0029005754616107373,0.002900519263178588,0.0029004703258493775,0.002900428545356392,0.0029003938186892243,0.0029003660440784177,0.0029003451209803415,0.0029003309500622377,0.0029003234331874813,0.0029003224734010374,0.00290032797491509,0.0029003398430948613],\"yaxis\":\"y\",\"type\":\"scatter\"}],                        {\"template\":{\"data\":{\"histogram2dcontour\":[{\"type\":\"histogram2dcontour\",\"colorbar\":{\"outlinewidth\":0,\"ticks\":\"\"},\"colorscale\":[[0.0,\"#0d0887\"],[0.1111111111111111,\"#46039f\"],[0.2222222222222222,\"#7201a8\"],[0.3333333333333333,\"#9c179e\"],[0.4444444444444444,\"#bd3786\"],[0.5555555555555556,\"#d8576b\"],[0.6666666666666666,\"#ed7953\"],[0.7777777777777778,\"#fb9f3a\"],[0.8888888888888888,\"#fdca26\"],[1.0,\"#f0f921\"]]}],\"choropleth\":[{\"type\":\"choropleth\",\"colorbar\":{\"outlinewidth\":0,\"ticks\":\"\"}}],\"histogram2d\":[{\"type\":\"histogram2d\",\"colorbar\":{\"outlinewidth\":0,\"ticks\":\"\"},\"colorscale\":[[0.0,\"#0d0887\"],[0.1111111111111111,\"#46039f\"],[0.2222222222222222,\"#7201a8\"],[0.3333333333333333,\"#9c179e\"],[0.4444444444444444,\"#bd3786\"],[0.5555555555555556,\"#d8576b\"],[0.6666666666666666,\"#ed7953\"],[0.7777777777777778,\"#fb9f3a\"],[0.8888888888888888,\"#fdca26\"],[1.0,\"#f0f921\"]]}],\"heatmap\":[{\"type\":\"heatmap\",\"colorbar\":{\"outlinewidth\":0,\"ticks\":\"\"},\"colorscale\":[[0.0,\"#0d0887\"],[0.1111111111111111,\"#46039f\"],[0.2222222222222222,\"#7201a8\"],[0.3333333333333333,\"#9c179e\"],[0.4444444444444444,\"#bd3786\"],[0.5555555555555556,\"#d8576b\"],[0.6666666666666666,\"#ed7953\"],[0.7777777777777778,\"#fb9f3a\"],[0.8888888888888888,\"#fdca26\"],[1.0,\"#f0f921\"]]}],\"heatmapgl\":[{\"type\":\"heatmapgl\",\"colorbar\":{\"outlinewidth\":0,\"ticks\":\"\"},\"colorscale\":[[0.0,\"#0d0887\"],[0.1111111111111111,\"#46039f\"],[0.2222222222222222,\"#7201a8\"],[0.3333333333333333,\"#9c179e\"],[0.4444444444444444,\"#bd3786\"],[0.5555555555555556,\"#d8576b\"],[0.6666666666666666,\"#ed7953\"],[0.7777777777777778,\"#fb9f3a\"],[0.8888888888888888,\"#fdca26\"],[1.0,\"#f0f921\"]]}],\"contourcarpet\":[{\"type\":\"contourcarpet\",\"colorbar\":{\"outlinewidth\":0,\"ticks\":\"\"}}],\"contour\":[{\"type\":\"contour\",\"colorbar\":{\"outlinewidth\":0,\"ticks\":\"\"},\"colorscale\":[[0.0,\"#0d0887\"],[0.1111111111111111,\"#46039f\"],[0.2222222222222222,\"#7201a8\"],[0.3333333333333333,\"#9c179e\"],[0.4444444444444444,\"#bd3786\"],[0.5555555555555556,\"#d8576b\"],[0.6666666666666666,\"#ed7953\"],[0.7777777777777778,\"#fb9f3a\"],[0.8888888888888888,\"#fdca26\"],[1.0,\"#f0f921\"]]}],\"surface\":[{\"type\":\"surface\",\"colorbar\":{\"outlinewidth\":0,\"ticks\":\"\"},\"colorscale\":[[0.0,\"#0d0887\"],[0.1111111111111111,\"#46039f\"],[0.2222222222222222,\"#7201a8\"],[0.3333333333333333,\"#9c179e\"],[0.4444444444444444,\"#bd3786\"],[0.5555555555555556,\"#d8576b\"],[0.6666666666666666,\"#ed7953\"],[0.7777777777777778,\"#fb9f3a\"],[0.8888888888888888,\"#fdca26\"],[1.0,\"#f0f921\"]]}],\"mesh3d\":[{\"type\":\"mesh3d\",\"colorbar\":{\"outlinewidth\":0,\"ticks\":\"\"}}],\"scatter\":[{\"fillpattern\":{\"fillmode\":\"overlay\",\"size\":10,\"solidity\":0.2},\"type\":\"scatter\"}],\"parcoords\":[{\"type\":\"parcoords\",\"line\":{\"colorbar\":{\"outlinewidth\":0,\"ticks\":\"\"}}}],\"scatterpolargl\":[{\"type\":\"scatterpolargl\",\"marker\":{\"colorbar\":{\"outlinewidth\":0,\"ticks\":\"\"}}}],\"bar\":[{\"error_x\":{\"color\":\"#2a3f5f\"},\"error_y\":{\"color\":\"#2a3f5f\"},\"marker\":{\"line\":{\"color\":\"#E5ECF6\",\"width\":0.5},\"pattern\":{\"fillmode\":\"overlay\",\"size\":10,\"solidity\":0.2}},\"type\":\"bar\"}],\"scattergeo\":[{\"type\":\"scattergeo\",\"marker\":{\"colorbar\":{\"outlinewidth\":0,\"ticks\":\"\"}}}],\"scatterpolar\":[{\"type\":\"scatterpolar\",\"marker\":{\"colorbar\":{\"outlinewidth\":0,\"ticks\":\"\"}}}],\"histogram\":[{\"marker\":{\"pattern\":{\"fillmode\":\"overlay\",\"size\":10,\"solidity\":0.2}},\"type\":\"histogram\"}],\"scattergl\":[{\"type\":\"scattergl\",\"marker\":{\"colorbar\":{\"outlinewidth\":0,\"ticks\":\"\"}}}],\"scatter3d\":[{\"type\":\"scatter3d\",\"line\":{\"colorbar\":{\"outlinewidth\":0,\"ticks\":\"\"}},\"marker\":{\"colorbar\":{\"outlinewidth\":0,\"ticks\":\"\"}}}],\"scattermapbox\":[{\"type\":\"scattermapbox\",\"marker\":{\"colorbar\":{\"outlinewidth\":0,\"ticks\":\"\"}}}],\"scatterternary\":[{\"type\":\"scatterternary\",\"marker\":{\"colorbar\":{\"outlinewidth\":0,\"ticks\":\"\"}}}],\"scattercarpet\":[{\"type\":\"scattercarpet\",\"marker\":{\"colorbar\":{\"outlinewidth\":0,\"ticks\":\"\"}}}],\"carpet\":[{\"aaxis\":{\"endlinecolor\":\"#2a3f5f\",\"gridcolor\":\"white\",\"linecolor\":\"white\",\"minorgridcolor\":\"white\",\"startlinecolor\":\"#2a3f5f\"},\"baxis\":{\"endlinecolor\":\"#2a3f5f\",\"gridcolor\":\"white\",\"linecolor\":\"white\",\"minorgridcolor\":\"white\",\"startlinecolor\":\"#2a3f5f\"},\"type\":\"carpet\"}],\"table\":[{\"cells\":{\"fill\":{\"color\":\"#EBF0F8\"},\"line\":{\"color\":\"white\"}},\"header\":{\"fill\":{\"color\":\"#C8D4E3\"},\"line\":{\"color\":\"white\"}},\"type\":\"table\"}],\"barpolar\":[{\"marker\":{\"line\":{\"color\":\"#E5ECF6\",\"width\":0.5},\"pattern\":{\"fillmode\":\"overlay\",\"size\":10,\"solidity\":0.2}},\"type\":\"barpolar\"}],\"pie\":[{\"automargin\":true,\"type\":\"pie\"}]},\"layout\":{\"autotypenumbers\":\"strict\",\"colorway\":[\"#636efa\",\"#EF553B\",\"#00cc96\",\"#ab63fa\",\"#FFA15A\",\"#19d3f3\",\"#FF6692\",\"#B6E880\",\"#FF97FF\",\"#FECB52\"],\"font\":{\"color\":\"#2a3f5f\"},\"hovermode\":\"closest\",\"hoverlabel\":{\"align\":\"left\"},\"paper_bgcolor\":\"white\",\"plot_bgcolor\":\"#E5ECF6\",\"polar\":{\"bgcolor\":\"#E5ECF6\",\"angularaxis\":{\"gridcolor\":\"white\",\"linecolor\":\"white\",\"ticks\":\"\"},\"radialaxis\":{\"gridcolor\":\"white\",\"linecolor\":\"white\",\"ticks\":\"\"}},\"ternary\":{\"bgcolor\":\"#E5ECF6\",\"aaxis\":{\"gridcolor\":\"white\",\"linecolor\":\"white\",\"ticks\":\"\"},\"baxis\":{\"gridcolor\":\"white\",\"linecolor\":\"white\",\"ticks\":\"\"},\"caxis\":{\"gridcolor\":\"white\",\"linecolor\":\"white\",\"ticks\":\"\"}},\"coloraxis\":{\"colorbar\":{\"outlinewidth\":0,\"ticks\":\"\"}},\"colorscale\":{\"sequential\":[[0.0,\"#0d0887\"],[0.1111111111111111,\"#46039f\"],[0.2222222222222222,\"#7201a8\"],[0.3333333333333333,\"#9c179e\"],[0.4444444444444444,\"#bd3786\"],[0.5555555555555556,\"#d8576b\"],[0.6666666666666666,\"#ed7953\"],[0.7777777777777778,\"#fb9f3a\"],[0.8888888888888888,\"#fdca26\"],[1.0,\"#f0f921\"]],\"sequentialminus\":[[0.0,\"#0d0887\"],[0.1111111111111111,\"#46039f\"],[0.2222222222222222,\"#7201a8\"],[0.3333333333333333,\"#9c179e\"],[0.4444444444444444,\"#bd3786\"],[0.5555555555555556,\"#d8576b\"],[0.6666666666666666,\"#ed7953\"],[0.7777777777777778,\"#fb9f3a\"],[0.8888888888888888,\"#fdca26\"],[1.0,\"#f0f921\"]],\"diverging\":[[0,\"#8e0152\"],[0.1,\"#c51b7d\"],[0.2,\"#de77ae\"],[0.3,\"#f1b6da\"],[0.4,\"#fde0ef\"],[0.5,\"#f7f7f7\"],[0.6,\"#e6f5d0\"],[0.7,\"#b8e186\"],[0.8,\"#7fbc41\"],[0.9,\"#4d9221\"],[1,\"#276419\"]]},\"xaxis\":{\"gridcolor\":\"white\",\"linecolor\":\"white\",\"ticks\":\"\",\"title\":{\"standoff\":15},\"zerolinecolor\":\"white\",\"automargin\":true,\"zerolinewidth\":2},\"yaxis\":{\"gridcolor\":\"white\",\"linecolor\":\"white\",\"ticks\":\"\",\"title\":{\"standoff\":15},\"zerolinecolor\":\"white\",\"automargin\":true,\"zerolinewidth\":2},\"scene\":{\"xaxis\":{\"backgroundcolor\":\"#E5ECF6\",\"gridcolor\":\"white\",\"linecolor\":\"white\",\"showbackground\":true,\"ticks\":\"\",\"zerolinecolor\":\"white\",\"gridwidth\":2},\"yaxis\":{\"backgroundcolor\":\"#E5ECF6\",\"gridcolor\":\"white\",\"linecolor\":\"white\",\"showbackground\":true,\"ticks\":\"\",\"zerolinecolor\":\"white\",\"gridwidth\":2},\"zaxis\":{\"backgroundcolor\":\"#E5ECF6\",\"gridcolor\":\"white\",\"linecolor\":\"white\",\"showbackground\":true,\"ticks\":\"\",\"zerolinecolor\":\"white\",\"gridwidth\":2}},\"shapedefaults\":{\"line\":{\"color\":\"#2a3f5f\"}},\"annotationdefaults\":{\"arrowcolor\":\"#2a3f5f\",\"arrowhead\":0,\"arrowwidth\":1},\"geo\":{\"bgcolor\":\"white\",\"landcolor\":\"#E5ECF6\",\"subunitcolor\":\"white\",\"showland\":true,\"showlakes\":true,\"lakecolor\":\"white\"},\"title\":{\"x\":0.05},\"mapbox\":{\"style\":\"light\"}}},\"xaxis\":{\"anchor\":\"y\",\"domain\":[0.0,1.0],\"title\":{\"text\":\"x\"}},\"yaxis\":{\"anchor\":\"x\",\"domain\":[0.0,1.0],\"title\":{\"text\":\"y\"}},\"legend\":{\"tracegroupgap\":0},\"margin\":{\"t\":60}},                        {\"responsive\": true}                    ).then(function(){\n",
              "                            \n",
              "var gd = document.getElementById('bc31c358-0e7b-4f7e-8986-a9819f05fa0e');\n",
              "var x = new MutationObserver(function (mutations, observer) {{\n",
              "        var display = window.getComputedStyle(gd).display;\n",
              "        if (!display || display === 'none') {{\n",
              "            console.log([gd, 'removed!']);\n",
              "            Plotly.purge(gd);\n",
              "            observer.disconnect();\n",
              "        }}\n",
              "}});\n",
              "\n",
              "// Listen for the removal of the full notebook cells\n",
              "var notebookContainer = gd.closest('#notebook-container');\n",
              "if (notebookContainer) {{\n",
              "    x.observe(notebookContainer, {childList: true});\n",
              "}}\n",
              "\n",
              "// Listen for the clearing of the current output cell\n",
              "var outputEl = gd.closest('.output');\n",
              "if (outputEl) {{\n",
              "    x.observe(outputEl, {childList: true});\n",
              "}}\n",
              "\n",
              "                        })                };                            </script>        </div>\n",
              "</body>\n",
              "</html>"
            ]
          },
          "metadata": {}
        }
      ]
    },
    {
      "cell_type": "code",
      "source": [
        "pre=n.predict(xTest)\n",
        "pre"
      ],
      "metadata": {
        "colab": {
          "base_uri": "https://localhost:8080/"
        },
        "id": "1QxH1XDpYWn5",
        "outputId": "3fe4ea28-792b-4745-a13a-19e8e7183005"
      },
      "execution_count": null,
      "outputs": [
        {
          "output_type": "execute_result",
          "data": {
            "text/plain": [
              "array([0.21318234, 0.0914952 , 0.75111496, 0.08372143])"
            ]
          },
          "metadata": {},
          "execution_count": 11
        }
      ]
    },
    {
      "cell_type": "code",
      "source": [
        "yTest"
      ],
      "metadata": {
        "colab": {
          "base_uri": "https://localhost:8080/"
        },
        "id": "ZoPS8zWnwvw0",
        "outputId": "2f5f07b3-fecc-4503-8504-c399b9d4183f"
      },
      "execution_count": null,
      "outputs": [
        {
          "output_type": "execute_result",
          "data": {
            "text/plain": [
              "2     0.222222\n",
              "5     0.044444\n",
              "6     0.762963\n",
              "13    0.059259\n",
              "Name: price, dtype: float64"
            ]
          },
          "metadata": {},
          "execution_count": 12
        }
      ]
    },
    {
      "cell_type": "code",
      "source": [
        "df.iloc[yTest.index]['price']"
      ],
      "metadata": {
        "colab": {
          "base_uri": "https://localhost:8080/"
        },
        "id": "a-PYuX6sYder",
        "outputId": "98c2a3df-a288-455a-cf0b-4ff1d264628b"
      },
      "execution_count": null,
      "outputs": [
        {
          "output_type": "execute_result",
          "data": {
            "text/plain": [
              "2      62.0\n",
              "5      38.0\n",
              "6     135.0\n",
              "13     40.0\n",
              "Name: price, dtype: float64"
            ]
          },
          "metadata": {},
          "execution_count": 13
        }
      ]
    },
    {
      "cell_type": "code",
      "source": [
        "from sklearn import preprocessing\n",
        "sy=preprocessing.MinMaxScaler()\n",
        "scaledY=sy.fit_transform(df['price'].values.reshape(df.shape[0],1))\n",
        "sy.inverse_transform([pre])"
      ],
      "metadata": {
        "colab": {
          "base_uri": "https://localhost:8080/"
        },
        "id": "C4Zgq7bH4RWj",
        "outputId": "ba29cdd2-8954-444c-e5aa-f8df85875580"
      },
      "execution_count": null,
      "outputs": [
        {
          "output_type": "execute_result",
          "data": {
            "text/plain": [
              "array([[ 60.77961613,  44.35185173, 133.40051955,  43.30239349]])"
            ]
          },
          "metadata": {},
          "execution_count": 14
        }
      ]
    },
    {
      "cell_type": "markdown",
      "source": [
        "### Stochastic Gradient Descent"
      ],
      "metadata": {
        "id": "j-OAFdMAuZ4s"
      }
    },
    {
      "cell_type": "code",
      "source": [
        "class SGDNN():\n",
        "  def __init__(self):\n",
        "    self.weigPlusBias=None\n",
        "    self.cost=list()\n",
        "    self.epoch=list()\n",
        "  def logLoss(self,yT,yP):\n",
        "    eplison=1e-15\n",
        "    nYp=[max(i,eplison) for i in yP]\n",
        "    nYp=np.array([min(i,1-eplison) for i in nYp])\n",
        "    return -np.mean(yT*np.log(nYp)+(1-yT)*np.log(1-nYp))\n",
        "\n",
        "  def MSE(self,true,pre):\n",
        "    return np.mean(np.square(true-pre))\n",
        "\n",
        "  def sigmoid(self,x):\n",
        "    return 1/(1+np.exp(-x))\n",
        "\n",
        "  def gradDesc(self, xT,yT,epochs,lThr):\n",
        "    ws=np.ones(xT.shape[1])\n",
        "    xs=np.array(xT.columns)\n",
        "    b=0\n",
        "    r=0.5\n",
        "    n=len(yT)\n",
        "    for e in range(epochs):\n",
        "      eq=[b]\n",
        "      si=random.randint(0,n-1)\n",
        "      for i,j in zip(range(0,len(xs)),xs):\n",
        "        eq.append(ws[i]*xT[[j]][si:si+1].values[0][0])\n",
        "      weigSum=np.sum(np.array(eq), axis = 0)\n",
        "      yP=self.sigmoid(weigSum)\n",
        "      loss=self.MSE(yT,yP)\n",
        "\n",
        "      self.cost.append(loss)\n",
        "      self.epoch.append(e)\n",
        "\n",
        "      for w,x in zip(range(len(ws)),xs):\n",
        "        ws[w]=ws[w]-r*((1/n)*np.dot(np.transpose(xT[x][si:si+1].values),(yP-yT[si:si+1].values)))\n",
        "      b=b-r*(np.mean(yP-yT[si:si+1].values))\n",
        "\n",
        "      if e%10==0:\n",
        "        print(f\"Epoch : {e}/{epochs}| Weights : {ws}| Bias : {b}| Loss : {loss}\")\n",
        "\n",
        "      if loss<=lThr:\n",
        "        print(f\"Epoch : {e}/{epochs}| Weights : {ws}| Bias : {b}| Loss : {loss}\")\n",
        "        break\n",
        "\n",
        "    return np.append(ws,b)\n",
        "\n",
        "  def fit(self,x,y,ep,lTh=0.0):\n",
        "    self.weigPlusBias=self.gradDesc(x,y,ep,lTh)\n",
        "\n",
        "  def predict(self,xTest):\n",
        "    n=len(xTest)\n",
        "    pws=[]\n",
        "    for i in range(0,n):\n",
        "      pws.append(np.array(self.weigPlusBias[i]*xTest[i]))\n",
        "    pws.append(self.weigPlusBias[-1])\n",
        "    print(pws)\n",
        "    return self.sigmoid(np.sum(np.array(pws), axis = 0))"
      ],
      "metadata": {
        "id": "9f9X6tCBcvkV"
      },
      "execution_count": null,
      "outputs": []
    },
    {
      "cell_type": "code",
      "source": [
        "sn=SGDNN()\n",
        "sn.fit(xTrain,yTrain,100)"
      ],
      "metadata": {
        "colab": {
          "base_uri": "https://localhost:8080/"
        },
        "id": "I_zJxaZdJgau",
        "outputId": "bffbc3fc-99c9-431d-b6f4-d9985030f098"
      },
      "execution_count": null,
      "outputs": [
        {
          "output_type": "stream",
          "name": "stdout",
          "text": [
            "Epoch : 0/100| Weights : [0.99622905 0.99261098]| Bias : -0.23644864438504554| Loss : 0.20067845579541715\n",
            "Epoch : 10/100| Weights : [0.98508483 0.96869405]| Bias : -1.4665083433118247| Loss : 0.10304017874589638\n",
            "Epoch : 20/100| Weights : [1.00914078 0.98298529]| Bias : -1.5477771928885244| Loss : 0.1166446724414934\n",
            "Epoch : 30/100| Weights : [1.02486621 0.99381065]| Bias : -1.605315178916532| Loss : 0.11697881755249197\n",
            "Epoch : 40/100| Weights : [1.04189307 1.00417807]| Bias : -1.558197873135376| Loss : 0.10283202284955809\n",
            "Epoch : 50/100| Weights : [1.06901787 1.02747039]| Bias : -1.367916694950034| Loss : 0.16990215567744094\n",
            "Epoch : 60/100| Weights : [1.09384857 1.04661349]| Bias : -1.2060258547495875| Loss : 0.1061228874044525\n",
            "Epoch : 70/100| Weights : [1.09047855 1.03658197]| Bias : -1.6466258716547273| Loss : 0.10442025844556185\n",
            "Epoch : 80/100| Weights : [1.10517726 1.04422775]| Bias : -1.617558725891428| Loss : 0.10354772236086478\n",
            "Epoch : 90/100| Weights : [1.12205131 1.05684496]| Bias : -1.5767896494129854| Loss : 0.10287844044995402\n"
          ]
        }
      ]
    },
    {
      "cell_type": "code",
      "source": [
        "sn.weigPlusBias"
      ],
      "metadata": {
        "colab": {
          "base_uri": "https://localhost:8080/"
        },
        "id": "1JBRrfCBJkRR",
        "outputId": "adf70b45-e0dd-4f93-8f33-30767a370cd3"
      },
      "execution_count": null,
      "outputs": [
        {
          "output_type": "execute_result",
          "data": {
            "text/plain": [
              "array([ 1.15025723,  1.08202373, -1.28531838])"
            ]
          },
          "metadata": {},
          "execution_count": 17
        }
      ]
    },
    {
      "cell_type": "code",
      "source": [
        "px.line(x=sn.epoch,y=sn.cost)"
      ],
      "metadata": {
        "colab": {
          "base_uri": "https://localhost:8080/",
          "height": 542
        },
        "id": "UdBEad47Uqoy",
        "outputId": "d259aabd-f8c7-481b-ecac-86ae97e63ff2"
      },
      "execution_count": null,
      "outputs": [
        {
          "output_type": "display_data",
          "data": {
            "text/html": [
              "<html>\n",
              "<head><meta charset=\"utf-8\" /></head>\n",
              "<body>\n",
              "    <div>            <script src=\"https://cdnjs.cloudflare.com/ajax/libs/mathjax/2.7.5/MathJax.js?config=TeX-AMS-MML_SVG\"></script><script type=\"text/javascript\">if (window.MathJax && window.MathJax.Hub && window.MathJax.Hub.Config) {window.MathJax.Hub.Config({SVG: {font: \"STIX-Web\"}});}</script>                <script type=\"text/javascript\">window.PlotlyConfig = {MathJaxConfig: 'local'};</script>\n",
              "        <script src=\"https://cdn.plot.ly/plotly-2.18.2.min.js\"></script>                <div id=\"efd44a97-60be-425f-a6c1-78128f3ed398\" class=\"plotly-graph-div\" style=\"height:525px; width:100%;\"></div>            <script type=\"text/javascript\">                                    window.PLOTLYENV=window.PLOTLYENV || {};                                    if (document.getElementById(\"efd44a97-60be-425f-a6c1-78128f3ed398\")) {                    Plotly.newPlot(                        \"efd44a97-60be-425f-a6c1-78128f3ed398\",                        [{\"hovertemplate\":\"x=%{x}<br>y=%{y}<extra></extra>\",\"legendgroup\":\"\",\"line\":{\"color\":\"#636efa\",\"dash\":\"solid\"},\"marker\":{\"symbol\":\"circle\"},\"mode\":\"lines\",\"name\":\"\",\"orientation\":\"v\",\"showlegend\":false,\"x\":[0,1,2,3,4,5,6,7,8,9,10,11,12,13,14,15,16,17,18,19,20,21,22,23,24,25,26,27,28,29,30,31,32,33,34,35,36,37,38,39,40,41,42,43,44,45,46,47,48,49,50,51,52,53,54,55,56,57,58,59,60,61,62,63,64,65,66,67,68,69,70,71,72,73,74,75,76,77,78,79,80,81,82,83,84,85,86,87,88,89,90,91,92,93,94,95,96,97,98,99],\"xaxis\":\"x\",\"y\":[0.20067845579541715,0.13041114128334036,0.19361078012185165,0.12916038278347772,0.11942991932335212,0.16945095819040776,0.10185764679897263,0.11053017054781039,0.10505480617484636,0.10833308463936965,0.10304017874589638,0.1050722232437192,0.12101645786485982,0.1071379368206554,0.12900398805268576,0.10951237983972052,0.11325950001333131,0.10368670602200752,0.12304247456820853,0.11003216579983721,0.1166446724414934,0.11844000567910165,0.14247550766385608,0.11280756522306074,0.10441564063671001,0.12472016444245838,0.11128476076777716,0.10329720193990047,0.15271291820443278,0.10464211836206616,0.11697881755249197,0.11071570150878028,0.11280540341969093,0.11534232522531823,0.12624415277181722,0.10181203838217695,0.10804668476157822,0.10203373949933175,0.10284361630021242,0.11904560958062362,0.10283202284955809,0.1184814287927918,0.10946645248483247,0.1062210177916383,0.10598508943997556,0.12081536316378015,0.12625688177333083,0.10681279321919829,0.14626679175375984,0.11263938995554039,0.16990215567744094,0.19705552626679163,0.10478257731785358,0.13796664979759551,0.1018597612847165,0.10741976872203549,0.10188170813269296,0.19836848557408981,0.13976713506316607,0.12667848992277164,0.1061228874044525,0.10295070078702469,0.10735331353493341,0.10988157167365341,0.10174863616243407,0.10174937755222438,0.10976519159700013,0.11142071121951155,0.10471027688767871,0.10715117686791395,0.10442025844556185,0.10180540199445812,0.10421733913161221,0.1097503420009608,0.10787425327946312,0.10924106010377294,0.11610494259990786,0.14297009238805025,0.10174905433070125,0.10721440691847772,0.10354772236086478,0.17151855276155586,0.10205728069040287,0.11456370825528923,0.10213122688773435,0.10648995173641419,0.11522871014148786,0.10347650536189423,0.1019107433810528,0.11140424243875877,0.10287844044995402,0.12043410410415087,0.16907571183730385,0.10174884561507572,0.11358555078539898,0.10717733662338377,0.10342168664913566,0.1161050935576009,0.11045658415200277,0.20254659400642233],\"yaxis\":\"y\",\"type\":\"scatter\"}],                        {\"template\":{\"data\":{\"histogram2dcontour\":[{\"type\":\"histogram2dcontour\",\"colorbar\":{\"outlinewidth\":0,\"ticks\":\"\"},\"colorscale\":[[0.0,\"#0d0887\"],[0.1111111111111111,\"#46039f\"],[0.2222222222222222,\"#7201a8\"],[0.3333333333333333,\"#9c179e\"],[0.4444444444444444,\"#bd3786\"],[0.5555555555555556,\"#d8576b\"],[0.6666666666666666,\"#ed7953\"],[0.7777777777777778,\"#fb9f3a\"],[0.8888888888888888,\"#fdca26\"],[1.0,\"#f0f921\"]]}],\"choropleth\":[{\"type\":\"choropleth\",\"colorbar\":{\"outlinewidth\":0,\"ticks\":\"\"}}],\"histogram2d\":[{\"type\":\"histogram2d\",\"colorbar\":{\"outlinewidth\":0,\"ticks\":\"\"},\"colorscale\":[[0.0,\"#0d0887\"],[0.1111111111111111,\"#46039f\"],[0.2222222222222222,\"#7201a8\"],[0.3333333333333333,\"#9c179e\"],[0.4444444444444444,\"#bd3786\"],[0.5555555555555556,\"#d8576b\"],[0.6666666666666666,\"#ed7953\"],[0.7777777777777778,\"#fb9f3a\"],[0.8888888888888888,\"#fdca26\"],[1.0,\"#f0f921\"]]}],\"heatmap\":[{\"type\":\"heatmap\",\"colorbar\":{\"outlinewidth\":0,\"ticks\":\"\"},\"colorscale\":[[0.0,\"#0d0887\"],[0.1111111111111111,\"#46039f\"],[0.2222222222222222,\"#7201a8\"],[0.3333333333333333,\"#9c179e\"],[0.4444444444444444,\"#bd3786\"],[0.5555555555555556,\"#d8576b\"],[0.6666666666666666,\"#ed7953\"],[0.7777777777777778,\"#fb9f3a\"],[0.8888888888888888,\"#fdca26\"],[1.0,\"#f0f921\"]]}],\"heatmapgl\":[{\"type\":\"heatmapgl\",\"colorbar\":{\"outlinewidth\":0,\"ticks\":\"\"},\"colorscale\":[[0.0,\"#0d0887\"],[0.1111111111111111,\"#46039f\"],[0.2222222222222222,\"#7201a8\"],[0.3333333333333333,\"#9c179e\"],[0.4444444444444444,\"#bd3786\"],[0.5555555555555556,\"#d8576b\"],[0.6666666666666666,\"#ed7953\"],[0.7777777777777778,\"#fb9f3a\"],[0.8888888888888888,\"#fdca26\"],[1.0,\"#f0f921\"]]}],\"contourcarpet\":[{\"type\":\"contourcarpet\",\"colorbar\":{\"outlinewidth\":0,\"ticks\":\"\"}}],\"contour\":[{\"type\":\"contour\",\"colorbar\":{\"outlinewidth\":0,\"ticks\":\"\"},\"colorscale\":[[0.0,\"#0d0887\"],[0.1111111111111111,\"#46039f\"],[0.2222222222222222,\"#7201a8\"],[0.3333333333333333,\"#9c179e\"],[0.4444444444444444,\"#bd3786\"],[0.5555555555555556,\"#d8576b\"],[0.6666666666666666,\"#ed7953\"],[0.7777777777777778,\"#fb9f3a\"],[0.8888888888888888,\"#fdca26\"],[1.0,\"#f0f921\"]]}],\"surface\":[{\"type\":\"surface\",\"colorbar\":{\"outlinewidth\":0,\"ticks\":\"\"},\"colorscale\":[[0.0,\"#0d0887\"],[0.1111111111111111,\"#46039f\"],[0.2222222222222222,\"#7201a8\"],[0.3333333333333333,\"#9c179e\"],[0.4444444444444444,\"#bd3786\"],[0.5555555555555556,\"#d8576b\"],[0.6666666666666666,\"#ed7953\"],[0.7777777777777778,\"#fb9f3a\"],[0.8888888888888888,\"#fdca26\"],[1.0,\"#f0f921\"]]}],\"mesh3d\":[{\"type\":\"mesh3d\",\"colorbar\":{\"outlinewidth\":0,\"ticks\":\"\"}}],\"scatter\":[{\"fillpattern\":{\"fillmode\":\"overlay\",\"size\":10,\"solidity\":0.2},\"type\":\"scatter\"}],\"parcoords\":[{\"type\":\"parcoords\",\"line\":{\"colorbar\":{\"outlinewidth\":0,\"ticks\":\"\"}}}],\"scatterpolargl\":[{\"type\":\"scatterpolargl\",\"marker\":{\"colorbar\":{\"outlinewidth\":0,\"ticks\":\"\"}}}],\"bar\":[{\"error_x\":{\"color\":\"#2a3f5f\"},\"error_y\":{\"color\":\"#2a3f5f\"},\"marker\":{\"line\":{\"color\":\"#E5ECF6\",\"width\":0.5},\"pattern\":{\"fillmode\":\"overlay\",\"size\":10,\"solidity\":0.2}},\"type\":\"bar\"}],\"scattergeo\":[{\"type\":\"scattergeo\",\"marker\":{\"colorbar\":{\"outlinewidth\":0,\"ticks\":\"\"}}}],\"scatterpolar\":[{\"type\":\"scatterpolar\",\"marker\":{\"colorbar\":{\"outlinewidth\":0,\"ticks\":\"\"}}}],\"histogram\":[{\"marker\":{\"pattern\":{\"fillmode\":\"overlay\",\"size\":10,\"solidity\":0.2}},\"type\":\"histogram\"}],\"scattergl\":[{\"type\":\"scattergl\",\"marker\":{\"colorbar\":{\"outlinewidth\":0,\"ticks\":\"\"}}}],\"scatter3d\":[{\"type\":\"scatter3d\",\"line\":{\"colorbar\":{\"outlinewidth\":0,\"ticks\":\"\"}},\"marker\":{\"colorbar\":{\"outlinewidth\":0,\"ticks\":\"\"}}}],\"scattermapbox\":[{\"type\":\"scattermapbox\",\"marker\":{\"colorbar\":{\"outlinewidth\":0,\"ticks\":\"\"}}}],\"scatterternary\":[{\"type\":\"scatterternary\",\"marker\":{\"colorbar\":{\"outlinewidth\":0,\"ticks\":\"\"}}}],\"scattercarpet\":[{\"type\":\"scattercarpet\",\"marker\":{\"colorbar\":{\"outlinewidth\":0,\"ticks\":\"\"}}}],\"carpet\":[{\"aaxis\":{\"endlinecolor\":\"#2a3f5f\",\"gridcolor\":\"white\",\"linecolor\":\"white\",\"minorgridcolor\":\"white\",\"startlinecolor\":\"#2a3f5f\"},\"baxis\":{\"endlinecolor\":\"#2a3f5f\",\"gridcolor\":\"white\",\"linecolor\":\"white\",\"minorgridcolor\":\"white\",\"startlinecolor\":\"#2a3f5f\"},\"type\":\"carpet\"}],\"table\":[{\"cells\":{\"fill\":{\"color\":\"#EBF0F8\"},\"line\":{\"color\":\"white\"}},\"header\":{\"fill\":{\"color\":\"#C8D4E3\"},\"line\":{\"color\":\"white\"}},\"type\":\"table\"}],\"barpolar\":[{\"marker\":{\"line\":{\"color\":\"#E5ECF6\",\"width\":0.5},\"pattern\":{\"fillmode\":\"overlay\",\"size\":10,\"solidity\":0.2}},\"type\":\"barpolar\"}],\"pie\":[{\"automargin\":true,\"type\":\"pie\"}]},\"layout\":{\"autotypenumbers\":\"strict\",\"colorway\":[\"#636efa\",\"#EF553B\",\"#00cc96\",\"#ab63fa\",\"#FFA15A\",\"#19d3f3\",\"#FF6692\",\"#B6E880\",\"#FF97FF\",\"#FECB52\"],\"font\":{\"color\":\"#2a3f5f\"},\"hovermode\":\"closest\",\"hoverlabel\":{\"align\":\"left\"},\"paper_bgcolor\":\"white\",\"plot_bgcolor\":\"#E5ECF6\",\"polar\":{\"bgcolor\":\"#E5ECF6\",\"angularaxis\":{\"gridcolor\":\"white\",\"linecolor\":\"white\",\"ticks\":\"\"},\"radialaxis\":{\"gridcolor\":\"white\",\"linecolor\":\"white\",\"ticks\":\"\"}},\"ternary\":{\"bgcolor\":\"#E5ECF6\",\"aaxis\":{\"gridcolor\":\"white\",\"linecolor\":\"white\",\"ticks\":\"\"},\"baxis\":{\"gridcolor\":\"white\",\"linecolor\":\"white\",\"ticks\":\"\"},\"caxis\":{\"gridcolor\":\"white\",\"linecolor\":\"white\",\"ticks\":\"\"}},\"coloraxis\":{\"colorbar\":{\"outlinewidth\":0,\"ticks\":\"\"}},\"colorscale\":{\"sequential\":[[0.0,\"#0d0887\"],[0.1111111111111111,\"#46039f\"],[0.2222222222222222,\"#7201a8\"],[0.3333333333333333,\"#9c179e\"],[0.4444444444444444,\"#bd3786\"],[0.5555555555555556,\"#d8576b\"],[0.6666666666666666,\"#ed7953\"],[0.7777777777777778,\"#fb9f3a\"],[0.8888888888888888,\"#fdca26\"],[1.0,\"#f0f921\"]],\"sequentialminus\":[[0.0,\"#0d0887\"],[0.1111111111111111,\"#46039f\"],[0.2222222222222222,\"#7201a8\"],[0.3333333333333333,\"#9c179e\"],[0.4444444444444444,\"#bd3786\"],[0.5555555555555556,\"#d8576b\"],[0.6666666666666666,\"#ed7953\"],[0.7777777777777778,\"#fb9f3a\"],[0.8888888888888888,\"#fdca26\"],[1.0,\"#f0f921\"]],\"diverging\":[[0,\"#8e0152\"],[0.1,\"#c51b7d\"],[0.2,\"#de77ae\"],[0.3,\"#f1b6da\"],[0.4,\"#fde0ef\"],[0.5,\"#f7f7f7\"],[0.6,\"#e6f5d0\"],[0.7,\"#b8e186\"],[0.8,\"#7fbc41\"],[0.9,\"#4d9221\"],[1,\"#276419\"]]},\"xaxis\":{\"gridcolor\":\"white\",\"linecolor\":\"white\",\"ticks\":\"\",\"title\":{\"standoff\":15},\"zerolinecolor\":\"white\",\"automargin\":true,\"zerolinewidth\":2},\"yaxis\":{\"gridcolor\":\"white\",\"linecolor\":\"white\",\"ticks\":\"\",\"title\":{\"standoff\":15},\"zerolinecolor\":\"white\",\"automargin\":true,\"zerolinewidth\":2},\"scene\":{\"xaxis\":{\"backgroundcolor\":\"#E5ECF6\",\"gridcolor\":\"white\",\"linecolor\":\"white\",\"showbackground\":true,\"ticks\":\"\",\"zerolinecolor\":\"white\",\"gridwidth\":2},\"yaxis\":{\"backgroundcolor\":\"#E5ECF6\",\"gridcolor\":\"white\",\"linecolor\":\"white\",\"showbackground\":true,\"ticks\":\"\",\"zerolinecolor\":\"white\",\"gridwidth\":2},\"zaxis\":{\"backgroundcolor\":\"#E5ECF6\",\"gridcolor\":\"white\",\"linecolor\":\"white\",\"showbackground\":true,\"ticks\":\"\",\"zerolinecolor\":\"white\",\"gridwidth\":2}},\"shapedefaults\":{\"line\":{\"color\":\"#2a3f5f\"}},\"annotationdefaults\":{\"arrowcolor\":\"#2a3f5f\",\"arrowhead\":0,\"arrowwidth\":1},\"geo\":{\"bgcolor\":\"white\",\"landcolor\":\"#E5ECF6\",\"subunitcolor\":\"white\",\"showland\":true,\"showlakes\":true,\"lakecolor\":\"white\"},\"title\":{\"x\":0.05},\"mapbox\":{\"style\":\"light\"}}},\"xaxis\":{\"anchor\":\"y\",\"domain\":[0.0,1.0],\"title\":{\"text\":\"x\"}},\"yaxis\":{\"anchor\":\"x\",\"domain\":[0.0,1.0],\"title\":{\"text\":\"y\"}},\"legend\":{\"tracegroupgap\":0},\"margin\":{\"t\":60}},                        {\"responsive\": true}                    ).then(function(){\n",
              "                            \n",
              "var gd = document.getElementById('efd44a97-60be-425f-a6c1-78128f3ed398');\n",
              "var x = new MutationObserver(function (mutations, observer) {{\n",
              "        var display = window.getComputedStyle(gd).display;\n",
              "        if (!display || display === 'none') {{\n",
              "            console.log([gd, 'removed!']);\n",
              "            Plotly.purge(gd);\n",
              "            observer.disconnect();\n",
              "        }}\n",
              "}});\n",
              "\n",
              "// Listen for the removal of the full notebook cells\n",
              "var notebookContainer = gd.closest('#notebook-container');\n",
              "if (notebookContainer) {{\n",
              "    x.observe(notebookContainer, {childList: true});\n",
              "}}\n",
              "\n",
              "// Listen for the clearing of the current output cell\n",
              "var outputEl = gd.closest('.output');\n",
              "if (outputEl) {{\n",
              "    x.observe(outputEl, {childList: true});\n",
              "}}\n",
              "\n",
              "                        })                };                            </script>        </div>\n",
              "</body>\n",
              "</html>"
            ]
          },
          "metadata": {}
        }
      ]
    },
    {
      "cell_type": "code",
      "source": [
        "xTest"
      ],
      "metadata": {
        "colab": {
          "base_uri": "https://localhost:8080/",
          "height": 175
        },
        "id": "vwYnqOxPcRFL",
        "outputId": "e3b27972-6649-4c19-9017-ef42b1651982"
      },
      "execution_count": null,
      "outputs": [
        {
          "output_type": "execute_result",
          "data": {
            "text/plain": [
              "        area  bedrooms\n",
              "2   0.220690      0.50\n",
              "5   0.127586      0.25\n",
              "6   0.666207      0.75\n",
              "13  0.103448      0.25"
            ],
            "text/html": [
              "\n",
              "  <div id=\"df-8d69a3c2-ccf2-46f5-8a46-8d998d2ba291\">\n",
              "    <div class=\"colab-df-container\">\n",
              "      <div>\n",
              "<style scoped>\n",
              "    .dataframe tbody tr th:only-of-type {\n",
              "        vertical-align: middle;\n",
              "    }\n",
              "\n",
              "    .dataframe tbody tr th {\n",
              "        vertical-align: top;\n",
              "    }\n",
              "\n",
              "    .dataframe thead th {\n",
              "        text-align: right;\n",
              "    }\n",
              "</style>\n",
              "<table border=\"1\" class=\"dataframe\">\n",
              "  <thead>\n",
              "    <tr style=\"text-align: right;\">\n",
              "      <th></th>\n",
              "      <th>area</th>\n",
              "      <th>bedrooms</th>\n",
              "    </tr>\n",
              "  </thead>\n",
              "  <tbody>\n",
              "    <tr>\n",
              "      <th>2</th>\n",
              "      <td>0.220690</td>\n",
              "      <td>0.50</td>\n",
              "    </tr>\n",
              "    <tr>\n",
              "      <th>5</th>\n",
              "      <td>0.127586</td>\n",
              "      <td>0.25</td>\n",
              "    </tr>\n",
              "    <tr>\n",
              "      <th>6</th>\n",
              "      <td>0.666207</td>\n",
              "      <td>0.75</td>\n",
              "    </tr>\n",
              "    <tr>\n",
              "      <th>13</th>\n",
              "      <td>0.103448</td>\n",
              "      <td>0.25</td>\n",
              "    </tr>\n",
              "  </tbody>\n",
              "</table>\n",
              "</div>\n",
              "      <button class=\"colab-df-convert\" onclick=\"convertToInteractive('df-8d69a3c2-ccf2-46f5-8a46-8d998d2ba291')\"\n",
              "              title=\"Convert this dataframe to an interactive table.\"\n",
              "              style=\"display:none;\">\n",
              "        \n",
              "  <svg xmlns=\"http://www.w3.org/2000/svg\" height=\"24px\"viewBox=\"0 0 24 24\"\n",
              "       width=\"24px\">\n",
              "    <path d=\"M0 0h24v24H0V0z\" fill=\"none\"/>\n",
              "    <path d=\"M18.56 5.44l.94 2.06.94-2.06 2.06-.94-2.06-.94-.94-2.06-.94 2.06-2.06.94zm-11 1L8.5 8.5l.94-2.06 2.06-.94-2.06-.94L8.5 2.5l-.94 2.06-2.06.94zm10 10l.94 2.06.94-2.06 2.06-.94-2.06-.94-.94-2.06-.94 2.06-2.06.94z\"/><path d=\"M17.41 7.96l-1.37-1.37c-.4-.4-.92-.59-1.43-.59-.52 0-1.04.2-1.43.59L10.3 9.45l-7.72 7.72c-.78.78-.78 2.05 0 2.83L4 21.41c.39.39.9.59 1.41.59.51 0 1.02-.2 1.41-.59l7.78-7.78 2.81-2.81c.8-.78.8-2.07 0-2.86zM5.41 20L4 18.59l7.72-7.72 1.47 1.35L5.41 20z\"/>\n",
              "  </svg>\n",
              "      </button>\n",
              "      \n",
              "  <style>\n",
              "    .colab-df-container {\n",
              "      display:flex;\n",
              "      flex-wrap:wrap;\n",
              "      gap: 12px;\n",
              "    }\n",
              "\n",
              "    .colab-df-convert {\n",
              "      background-color: #E8F0FE;\n",
              "      border: none;\n",
              "      border-radius: 50%;\n",
              "      cursor: pointer;\n",
              "      display: none;\n",
              "      fill: #1967D2;\n",
              "      height: 32px;\n",
              "      padding: 0 0 0 0;\n",
              "      width: 32px;\n",
              "    }\n",
              "\n",
              "    .colab-df-convert:hover {\n",
              "      background-color: #E2EBFA;\n",
              "      box-shadow: 0px 1px 2px rgba(60, 64, 67, 0.3), 0px 1px 3px 1px rgba(60, 64, 67, 0.15);\n",
              "      fill: #174EA6;\n",
              "    }\n",
              "\n",
              "    [theme=dark] .colab-df-convert {\n",
              "      background-color: #3B4455;\n",
              "      fill: #D2E3FC;\n",
              "    }\n",
              "\n",
              "    [theme=dark] .colab-df-convert:hover {\n",
              "      background-color: #434B5C;\n",
              "      box-shadow: 0px 1px 3px 1px rgba(0, 0, 0, 0.15);\n",
              "      filter: drop-shadow(0px 1px 2px rgba(0, 0, 0, 0.3));\n",
              "      fill: #FFFFFF;\n",
              "    }\n",
              "  </style>\n",
              "\n",
              "      <script>\n",
              "        const buttonEl =\n",
              "          document.querySelector('#df-8d69a3c2-ccf2-46f5-8a46-8d998d2ba291 button.colab-df-convert');\n",
              "        buttonEl.style.display =\n",
              "          google.colab.kernel.accessAllowed ? 'block' : 'none';\n",
              "\n",
              "        async function convertToInteractive(key) {\n",
              "          const element = document.querySelector('#df-8d69a3c2-ccf2-46f5-8a46-8d998d2ba291');\n",
              "          const dataTable =\n",
              "            await google.colab.kernel.invokeFunction('convertToInteractive',\n",
              "                                                     [key], {});\n",
              "          if (!dataTable) return;\n",
              "\n",
              "          const docLinkHtml = 'Like what you see? Visit the ' +\n",
              "            '<a target=\"_blank\" href=https://colab.research.google.com/notebooks/data_table.ipynb>data table notebook</a>'\n",
              "            + ' to learn more about interactive tables.';\n",
              "          element.innerHTML = '';\n",
              "          dataTable['output_type'] = 'display_data';\n",
              "          await google.colab.output.renderOutput(dataTable, element);\n",
              "          const docLink = document.createElement('div');\n",
              "          docLink.innerHTML = docLinkHtml;\n",
              "          element.appendChild(docLink);\n",
              "        }\n",
              "      </script>\n",
              "    </div>\n",
              "  </div>\n",
              "  "
            ]
          },
          "metadata": {},
          "execution_count": 19
        }
      ]
    },
    {
      "cell_type": "code",
      "source": [
        "sy.inverse_transform([[sn.predict([\t0.344828,\t0.50])]])"
      ],
      "metadata": {
        "colab": {
          "base_uri": "https://localhost:8080/"
        },
        "id": "BByjD180MbfD",
        "outputId": "1cbf910e-685a-4de3-f4f8-e3430717ed9c"
      },
      "execution_count": null,
      "outputs": [
        {
          "output_type": "stream",
          "name": "stdout",
          "text": [
            "[array(0.3966409), array(0.54101186), -1.2853183776317199]\n"
          ]
        },
        {
          "output_type": "execute_result",
          "data": {
            "text/plain": [
              "array([[87.88306346]])"
            ]
          },
          "metadata": {},
          "execution_count": 20
        }
      ]
    },
    {
      "cell_type": "markdown",
      "source": [
        "### Mini Batch Gradient Descent"
      ],
      "metadata": {
        "id": "rrmJ20dkycb4"
      }
    },
    {
      "cell_type": "code",
      "source": [
        "class MBGDNN():\n",
        "  def __init__(self):\n",
        "    self.weigPlusBias=None\n",
        "    self.cost=list()\n",
        "    self.epoch=list()\n",
        "  def logLoss(self,yT,yP):\n",
        "    eplison=1e-15\n",
        "    nYp=[max(i,eplison) for i in yP]\n",
        "    nYp=np.array([min(i,1-eplison) for i in nYp])\n",
        "    return -np.mean(yT*np.log(nYp)+(1-yT)*np.log(1-nYp))\n",
        "\n",
        "  def MSE(self,true,pre):\n",
        "    return np.mean(np.square(true-pre))\n",
        "\n",
        "  def sigmoid(self,x):\n",
        "    return 1/(1+np.exp(-x))\n",
        "\n",
        "  def gradDesc(self, xT,yT,epochs,lThr):\n",
        "    ws=np.ones(xT.shape[1])\n",
        "    xs=np.array(xT.columns)\n",
        "    b=np.zeros(xT.shape[0])\n",
        "    r=0.5\n",
        "    n=len(yT)\n",
        "    for e in range(epochs):\n",
        "      idx=xT.index.values[random.sample(range(0,n),3)]\n",
        "      eq=[b[[vi for vi in range(len(idx))]]]\n",
        "      for i,j in zip(range(0,len(xs)),xs):\n",
        "        eq.append(np.array(ws[i]*xT[xT.index.isin(idx)][[j]].values).reshape([1, len(idx)])[0])\n",
        "      weigSum=np.sum(np.array(eq), axis = 0)\n",
        "      yP=self.sigmoid(weigSum)\n",
        "      loss=self.MSE(yT[yT.index.isin(idx)],yP)\n",
        "\n",
        "      self.cost.append(loss)\n",
        "      self.epoch.append(e)\n",
        "\n",
        "      for w,x in zip(range(len(ws)),xs):\n",
        "        ws[w]=ws[w]-r*((1/n)*np.dot(np.transpose(xT[xT.index.isin(idx)][x]),(yP-yT[xT.index.isin(idx)])))\n",
        "      b=b-r*(np.mean(yP-yT[xT.index.isin(idx)]))\n",
        "\n",
        "      if e%50==0:\n",
        "        print(f\"Epoch : {e}/{epochs}| Weights : {ws}| Bias : {b[0]}| Loss : {loss}\")\n",
        "\n",
        "      if loss<=lThr:\n",
        "        print(f\"Epoch : {e}/{epochs}| Weights : {ws}| Bias : {b[0]}| Loss : {loss}\")\n",
        "        break\n",
        "\n",
        "    return np.append(ws,b[0])\n",
        "\n",
        "  def fit(self,x,y,ep,lTh=0.0):\n",
        "    self.weigPlusBias=self.gradDesc(x,y,ep,lTh)\n",
        "\n",
        "  def predict(self,xTest):\n",
        "    n=len(xTest)\n",
        "    pws=[]\n",
        "    for i,j in zip(range(0,len(xTest)),xTest):\n",
        "      pws.append(np.array(self.weigPlusBias[i]*xTest[j].values))\n",
        "\n",
        "    pws.append(np.ones(xTest.shape[0])*self.weigPlusBias[-1])\n",
        "    return self.sigmoid(np.sum(np.array(pws), axis = 0))"
      ],
      "metadata": {
        "id": "QZ8R41dwch5P"
      },
      "execution_count": null,
      "outputs": []
    },
    {
      "cell_type": "code",
      "source": [
        "mn=MBGDNN()\n",
        "mn.fit(xTrain,yTrain,200)"
      ],
      "metadata": {
        "colab": {
          "base_uri": "https://localhost:8080/"
        },
        "id": "5FPhPG40czOM",
        "outputId": "1a3c9238-d8ed-4bde-8965-8cd970cc9645"
      },
      "execution_count": null,
      "outputs": [
        {
          "output_type": "stream",
          "name": "stdout",
          "text": [
            "Epoch : 0/200| Weights : [0.99344971 0.98883151]| Bias : -0.20160315689163685| Loss : 0.18042283276787865\n",
            "Epoch : 50/200| Weights : [1.20260892 1.08016482]| Bias : -1.5867898703194265| Loss : 0.05060150903062394\n",
            "Epoch : 100/200| Weights : [1.4205437  1.22191975]| Bias : -1.672112750324699| Loss : 0.015260583945820354\n",
            "Epoch : 150/200| Weights : [1.64036385 1.37157952]| Bias : -1.7800486405090277| Loss : 0.031006192692982503\n"
          ]
        }
      ]
    },
    {
      "cell_type": "code",
      "source": [
        "mn.weigPlusBias"
      ],
      "metadata": {
        "colab": {
          "base_uri": "https://localhost:8080/"
        },
        "id": "BivhaYbtz0nR",
        "outputId": "e333e983-d32d-4e9b-9d2f-0b007ed845c8"
      },
      "execution_count": null,
      "outputs": [
        {
          "output_type": "execute_result",
          "data": {
            "text/plain": [
              "array([ 1.84592765,  1.51732805, -1.81262936])"
            ]
          },
          "metadata": {},
          "execution_count": 23
        }
      ]
    },
    {
      "cell_type": "code",
      "source": [
        "px.line(x=mn.epoch,y=mn.cost)"
      ],
      "metadata": {
        "colab": {
          "base_uri": "https://localhost:8080/",
          "height": 542
        },
        "id": "2bv_E8Ue0yTv",
        "outputId": "c4d42228-b2e0-4eb0-b9bc-907fe7e1535d"
      },
      "execution_count": null,
      "outputs": [
        {
          "output_type": "display_data",
          "data": {
            "text/html": [
              "<html>\n",
              "<head><meta charset=\"utf-8\" /></head>\n",
              "<body>\n",
              "    <div>            <script src=\"https://cdnjs.cloudflare.com/ajax/libs/mathjax/2.7.5/MathJax.js?config=TeX-AMS-MML_SVG\"></script><script type=\"text/javascript\">if (window.MathJax && window.MathJax.Hub && window.MathJax.Hub.Config) {window.MathJax.Hub.Config({SVG: {font: \"STIX-Web\"}});}</script>                <script type=\"text/javascript\">window.PlotlyConfig = {MathJaxConfig: 'local'};</script>\n",
              "        <script src=\"https://cdn.plot.ly/plotly-2.18.2.min.js\"></script>                <div id=\"3a183319-8bc9-4756-81aa-ad1352dde0e2\" class=\"plotly-graph-div\" style=\"height:525px; width:100%;\"></div>            <script type=\"text/javascript\">                                    window.PLOTLYENV=window.PLOTLYENV || {};                                    if (document.getElementById(\"3a183319-8bc9-4756-81aa-ad1352dde0e2\")) {                    Plotly.newPlot(                        \"3a183319-8bc9-4756-81aa-ad1352dde0e2\",                        [{\"hovertemplate\":\"x=%{x}<br>y=%{y}<extra></extra>\",\"legendgroup\":\"\",\"line\":{\"color\":\"#636efa\",\"dash\":\"solid\"},\"marker\":{\"symbol\":\"circle\"},\"mode\":\"lines\",\"name\":\"\",\"orientation\":\"v\",\"showlegend\":false,\"x\":[0,1,2,3,4,5,6,7,8,9,10,11,12,13,14,15,16,17,18,19,20,21,22,23,24,25,26,27,28,29,30,31,32,33,34,35,36,37,38,39,40,41,42,43,44,45,46,47,48,49,50,51,52,53,54,55,56,57,58,59,60,61,62,63,64,65,66,67,68,69,70,71,72,73,74,75,76,77,78,79,80,81,82,83,84,85,86,87,88,89,90,91,92,93,94,95,96,97,98,99,100,101,102,103,104,105,106,107,108,109,110,111,112,113,114,115,116,117,118,119,120,121,122,123,124,125,126,127,128,129,130,131,132,133,134,135,136,137,138,139,140,141,142,143,144,145,146,147,148,149,150,151,152,153,154,155,156,157,158,159,160,161,162,163,164,165,166,167,168,169,170,171,172,173,174,175,176,177,178,179,180,181,182,183,184,185,186,187,188,189,190,191,192,193,194,195,196,197,198,199],\"xaxis\":\"x\",\"y\":[0.18042283276787865,0.16953615915295595,0.18704877081348106,0.06219357389426485,0.09903035369586577,0.08713939867085953,0.04401023052784051,0.04865177349178467,0.0278686893051871,0.05103550973852511,0.08024125002697241,0.04467456901737982,0.060996830965806416,0.039655613754153066,0.04810751447196792,0.0683287637837604,0.023316299623801443,0.08190667795298186,0.029861919051003268,0.02913212755617224,0.0626529543867962,0.014973189186589846,0.06713827580317806,0.055835306188916224,0.02768500627328273,0.05300481391776362,0.050878410094245784,0.03532910226268248,0.054375559276724265,0.05227263491134903,0.05913819978580164,0.05075512389119766,0.048316311614223346,0.06626576352529141,0.04166610867931875,0.036259929825232615,0.05260612617927448,0.008587678068683166,0.057203856539996656,0.05238656549697592,0.05138926916331782,0.022794297688848233,0.06164260391107631,0.03007513903147375,0.04641579815945605,0.015259807707869532,0.04516809530055075,0.021665499642140318,0.01743134094908215,0.016436235727961393,0.05060150903062394,0.04651452557979918,0.031384760436294346,0.037283690127490735,0.022480106027039662,0.022182316825587117,0.05088838502998735,0.00811977370135915,0.05912142741028282,0.02445639526795011,0.018524839571168673,0.00982768077138019,0.013841037960110348,0.02148940407601585,0.02005951499269788,0.011849254574893248,0.07179548640811292,0.020606576158138143,0.0974863064251515,0.0712120504972121,0.0420090893230031,0.033634923999124676,0.04524486772263677,0.012122143229291914,0.029829304790321226,0.036005178079327356,0.03519782167402915,0.04620330824100074,0.02072389915939191,0.01989913432151289,0.014760809793225168,0.041740126587840376,0.023449430768729046,0.04164400799522256,0.02441581899792374,0.01982356337098092,0.015497438606588324,0.0027504525244852612,0.10980386310817009,0.04458198845214897,0.029383258128518445,0.012623963398455451,0.039843024134594285,0.003836364972712047,0.03795673635347978,0.02686260437918983,0.007666945242120966,0.011630181263195176,0.014320677261526494,0.034772993676690865,0.015260583945820354,0.021865802144149748,0.01831028585583731,0.012465218148970952,0.016885969595925792,0.01648753383245633,0.019381000460014987,0.05706728091425143,0.027272682232889426,0.04292897580756198,0.022982800720971405,0.02928778203397779,0.025268867438934934,0.015771077760573748,0.026930410707765487,0.03608192506830372,0.04479243974294004,0.03666648848400125,0.010411489857233782,0.027458065116846054,0.04301037131866031,0.046327227252239554,0.03702275717218939,0.03355468000815714,0.01055148255373719,0.03838254350717942,0.045232601646542275,0.04249435392615767,0.017718606597401754,0.017059758931289307,0.014393656403195051,0.01932692614365485,0.013475821282148024,0.03050738830865907,0.038625002512431124,0.036892970493676645,0.023097842200123102,0.028356788284888978,0.02600966851696424,0.03086792927060303,0.010532316194519872,0.03269128399453849,0.02427361468998966,0.039783193368722373,0.025978162149803172,0.017185598961390006,0.03551838175373693,0.018801842717375748,0.025679062363808722,0.03325379032786414,0.031006192692982503,0.01707688575978717,0.02186460015508719,0.03418101159981765,0.021652465657777436,0.032392669054204265,0.03241821476077148,0.012671755251697935,0.030338141276686024,0.02345725234776952,0.012133875435635757,0.030149913135851452,0.012456397816751513,0.018965307085187545,0.023060865212583905,0.04132281627904814,0.018078758984678242,0.02377418452390419,0.02668866231550833,0.02392228909942139,0.018114971289109525,0.02212966441412818,0.018571228439472533,0.012581640178374773,0.028194429147677332,0.0159248486653313,0.00893021968734154,0.047793010206244484,0.02753712242431877,0.02295820645063266,0.020521879244175794,0.017110560021326767,0.01333386906389849,0.0071083269901771025,0.028590714858435184,0.026469840855274398,0.04399118623685699,0.020022952592036507,0.032881204383197624,0.020916099255296056,0.026586421136694956,0.026126878265017667,0.001455088618719991,0.0165662186150339,0.00859337197933871,0.017459800397175748,0.027531118994798123,0.018469145589356913,0.016811924250714705,0.014242576484198717],\"yaxis\":\"y\",\"type\":\"scatter\"}],                        {\"template\":{\"data\":{\"histogram2dcontour\":[{\"type\":\"histogram2dcontour\",\"colorbar\":{\"outlinewidth\":0,\"ticks\":\"\"},\"colorscale\":[[0.0,\"#0d0887\"],[0.1111111111111111,\"#46039f\"],[0.2222222222222222,\"#7201a8\"],[0.3333333333333333,\"#9c179e\"],[0.4444444444444444,\"#bd3786\"],[0.5555555555555556,\"#d8576b\"],[0.6666666666666666,\"#ed7953\"],[0.7777777777777778,\"#fb9f3a\"],[0.8888888888888888,\"#fdca26\"],[1.0,\"#f0f921\"]]}],\"choropleth\":[{\"type\":\"choropleth\",\"colorbar\":{\"outlinewidth\":0,\"ticks\":\"\"}}],\"histogram2d\":[{\"type\":\"histogram2d\",\"colorbar\":{\"outlinewidth\":0,\"ticks\":\"\"},\"colorscale\":[[0.0,\"#0d0887\"],[0.1111111111111111,\"#46039f\"],[0.2222222222222222,\"#7201a8\"],[0.3333333333333333,\"#9c179e\"],[0.4444444444444444,\"#bd3786\"],[0.5555555555555556,\"#d8576b\"],[0.6666666666666666,\"#ed7953\"],[0.7777777777777778,\"#fb9f3a\"],[0.8888888888888888,\"#fdca26\"],[1.0,\"#f0f921\"]]}],\"heatmap\":[{\"type\":\"heatmap\",\"colorbar\":{\"outlinewidth\":0,\"ticks\":\"\"},\"colorscale\":[[0.0,\"#0d0887\"],[0.1111111111111111,\"#46039f\"],[0.2222222222222222,\"#7201a8\"],[0.3333333333333333,\"#9c179e\"],[0.4444444444444444,\"#bd3786\"],[0.5555555555555556,\"#d8576b\"],[0.6666666666666666,\"#ed7953\"],[0.7777777777777778,\"#fb9f3a\"],[0.8888888888888888,\"#fdca26\"],[1.0,\"#f0f921\"]]}],\"heatmapgl\":[{\"type\":\"heatmapgl\",\"colorbar\":{\"outlinewidth\":0,\"ticks\":\"\"},\"colorscale\":[[0.0,\"#0d0887\"],[0.1111111111111111,\"#46039f\"],[0.2222222222222222,\"#7201a8\"],[0.3333333333333333,\"#9c179e\"],[0.4444444444444444,\"#bd3786\"],[0.5555555555555556,\"#d8576b\"],[0.6666666666666666,\"#ed7953\"],[0.7777777777777778,\"#fb9f3a\"],[0.8888888888888888,\"#fdca26\"],[1.0,\"#f0f921\"]]}],\"contourcarpet\":[{\"type\":\"contourcarpet\",\"colorbar\":{\"outlinewidth\":0,\"ticks\":\"\"}}],\"contour\":[{\"type\":\"contour\",\"colorbar\":{\"outlinewidth\":0,\"ticks\":\"\"},\"colorscale\":[[0.0,\"#0d0887\"],[0.1111111111111111,\"#46039f\"],[0.2222222222222222,\"#7201a8\"],[0.3333333333333333,\"#9c179e\"],[0.4444444444444444,\"#bd3786\"],[0.5555555555555556,\"#d8576b\"],[0.6666666666666666,\"#ed7953\"],[0.7777777777777778,\"#fb9f3a\"],[0.8888888888888888,\"#fdca26\"],[1.0,\"#f0f921\"]]}],\"surface\":[{\"type\":\"surface\",\"colorbar\":{\"outlinewidth\":0,\"ticks\":\"\"},\"colorscale\":[[0.0,\"#0d0887\"],[0.1111111111111111,\"#46039f\"],[0.2222222222222222,\"#7201a8\"],[0.3333333333333333,\"#9c179e\"],[0.4444444444444444,\"#bd3786\"],[0.5555555555555556,\"#d8576b\"],[0.6666666666666666,\"#ed7953\"],[0.7777777777777778,\"#fb9f3a\"],[0.8888888888888888,\"#fdca26\"],[1.0,\"#f0f921\"]]}],\"mesh3d\":[{\"type\":\"mesh3d\",\"colorbar\":{\"outlinewidth\":0,\"ticks\":\"\"}}],\"scatter\":[{\"fillpattern\":{\"fillmode\":\"overlay\",\"size\":10,\"solidity\":0.2},\"type\":\"scatter\"}],\"parcoords\":[{\"type\":\"parcoords\",\"line\":{\"colorbar\":{\"outlinewidth\":0,\"ticks\":\"\"}}}],\"scatterpolargl\":[{\"type\":\"scatterpolargl\",\"marker\":{\"colorbar\":{\"outlinewidth\":0,\"ticks\":\"\"}}}],\"bar\":[{\"error_x\":{\"color\":\"#2a3f5f\"},\"error_y\":{\"color\":\"#2a3f5f\"},\"marker\":{\"line\":{\"color\":\"#E5ECF6\",\"width\":0.5},\"pattern\":{\"fillmode\":\"overlay\",\"size\":10,\"solidity\":0.2}},\"type\":\"bar\"}],\"scattergeo\":[{\"type\":\"scattergeo\",\"marker\":{\"colorbar\":{\"outlinewidth\":0,\"ticks\":\"\"}}}],\"scatterpolar\":[{\"type\":\"scatterpolar\",\"marker\":{\"colorbar\":{\"outlinewidth\":0,\"ticks\":\"\"}}}],\"histogram\":[{\"marker\":{\"pattern\":{\"fillmode\":\"overlay\",\"size\":10,\"solidity\":0.2}},\"type\":\"histogram\"}],\"scattergl\":[{\"type\":\"scattergl\",\"marker\":{\"colorbar\":{\"outlinewidth\":0,\"ticks\":\"\"}}}],\"scatter3d\":[{\"type\":\"scatter3d\",\"line\":{\"colorbar\":{\"outlinewidth\":0,\"ticks\":\"\"}},\"marker\":{\"colorbar\":{\"outlinewidth\":0,\"ticks\":\"\"}}}],\"scattermapbox\":[{\"type\":\"scattermapbox\",\"marker\":{\"colorbar\":{\"outlinewidth\":0,\"ticks\":\"\"}}}],\"scatterternary\":[{\"type\":\"scatterternary\",\"marker\":{\"colorbar\":{\"outlinewidth\":0,\"ticks\":\"\"}}}],\"scattercarpet\":[{\"type\":\"scattercarpet\",\"marker\":{\"colorbar\":{\"outlinewidth\":0,\"ticks\":\"\"}}}],\"carpet\":[{\"aaxis\":{\"endlinecolor\":\"#2a3f5f\",\"gridcolor\":\"white\",\"linecolor\":\"white\",\"minorgridcolor\":\"white\",\"startlinecolor\":\"#2a3f5f\"},\"baxis\":{\"endlinecolor\":\"#2a3f5f\",\"gridcolor\":\"white\",\"linecolor\":\"white\",\"minorgridcolor\":\"white\",\"startlinecolor\":\"#2a3f5f\"},\"type\":\"carpet\"}],\"table\":[{\"cells\":{\"fill\":{\"color\":\"#EBF0F8\"},\"line\":{\"color\":\"white\"}},\"header\":{\"fill\":{\"color\":\"#C8D4E3\"},\"line\":{\"color\":\"white\"}},\"type\":\"table\"}],\"barpolar\":[{\"marker\":{\"line\":{\"color\":\"#E5ECF6\",\"width\":0.5},\"pattern\":{\"fillmode\":\"overlay\",\"size\":10,\"solidity\":0.2}},\"type\":\"barpolar\"}],\"pie\":[{\"automargin\":true,\"type\":\"pie\"}]},\"layout\":{\"autotypenumbers\":\"strict\",\"colorway\":[\"#636efa\",\"#EF553B\",\"#00cc96\",\"#ab63fa\",\"#FFA15A\",\"#19d3f3\",\"#FF6692\",\"#B6E880\",\"#FF97FF\",\"#FECB52\"],\"font\":{\"color\":\"#2a3f5f\"},\"hovermode\":\"closest\",\"hoverlabel\":{\"align\":\"left\"},\"paper_bgcolor\":\"white\",\"plot_bgcolor\":\"#E5ECF6\",\"polar\":{\"bgcolor\":\"#E5ECF6\",\"angularaxis\":{\"gridcolor\":\"white\",\"linecolor\":\"white\",\"ticks\":\"\"},\"radialaxis\":{\"gridcolor\":\"white\",\"linecolor\":\"white\",\"ticks\":\"\"}},\"ternary\":{\"bgcolor\":\"#E5ECF6\",\"aaxis\":{\"gridcolor\":\"white\",\"linecolor\":\"white\",\"ticks\":\"\"},\"baxis\":{\"gridcolor\":\"white\",\"linecolor\":\"white\",\"ticks\":\"\"},\"caxis\":{\"gridcolor\":\"white\",\"linecolor\":\"white\",\"ticks\":\"\"}},\"coloraxis\":{\"colorbar\":{\"outlinewidth\":0,\"ticks\":\"\"}},\"colorscale\":{\"sequential\":[[0.0,\"#0d0887\"],[0.1111111111111111,\"#46039f\"],[0.2222222222222222,\"#7201a8\"],[0.3333333333333333,\"#9c179e\"],[0.4444444444444444,\"#bd3786\"],[0.5555555555555556,\"#d8576b\"],[0.6666666666666666,\"#ed7953\"],[0.7777777777777778,\"#fb9f3a\"],[0.8888888888888888,\"#fdca26\"],[1.0,\"#f0f921\"]],\"sequentialminus\":[[0.0,\"#0d0887\"],[0.1111111111111111,\"#46039f\"],[0.2222222222222222,\"#7201a8\"],[0.3333333333333333,\"#9c179e\"],[0.4444444444444444,\"#bd3786\"],[0.5555555555555556,\"#d8576b\"],[0.6666666666666666,\"#ed7953\"],[0.7777777777777778,\"#fb9f3a\"],[0.8888888888888888,\"#fdca26\"],[1.0,\"#f0f921\"]],\"diverging\":[[0,\"#8e0152\"],[0.1,\"#c51b7d\"],[0.2,\"#de77ae\"],[0.3,\"#f1b6da\"],[0.4,\"#fde0ef\"],[0.5,\"#f7f7f7\"],[0.6,\"#e6f5d0\"],[0.7,\"#b8e186\"],[0.8,\"#7fbc41\"],[0.9,\"#4d9221\"],[1,\"#276419\"]]},\"xaxis\":{\"gridcolor\":\"white\",\"linecolor\":\"white\",\"ticks\":\"\",\"title\":{\"standoff\":15},\"zerolinecolor\":\"white\",\"automargin\":true,\"zerolinewidth\":2},\"yaxis\":{\"gridcolor\":\"white\",\"linecolor\":\"white\",\"ticks\":\"\",\"title\":{\"standoff\":15},\"zerolinecolor\":\"white\",\"automargin\":true,\"zerolinewidth\":2},\"scene\":{\"xaxis\":{\"backgroundcolor\":\"#E5ECF6\",\"gridcolor\":\"white\",\"linecolor\":\"white\",\"showbackground\":true,\"ticks\":\"\",\"zerolinecolor\":\"white\",\"gridwidth\":2},\"yaxis\":{\"backgroundcolor\":\"#E5ECF6\",\"gridcolor\":\"white\",\"linecolor\":\"white\",\"showbackground\":true,\"ticks\":\"\",\"zerolinecolor\":\"white\",\"gridwidth\":2},\"zaxis\":{\"backgroundcolor\":\"#E5ECF6\",\"gridcolor\":\"white\",\"linecolor\":\"white\",\"showbackground\":true,\"ticks\":\"\",\"zerolinecolor\":\"white\",\"gridwidth\":2}},\"shapedefaults\":{\"line\":{\"color\":\"#2a3f5f\"}},\"annotationdefaults\":{\"arrowcolor\":\"#2a3f5f\",\"arrowhead\":0,\"arrowwidth\":1},\"geo\":{\"bgcolor\":\"white\",\"landcolor\":\"#E5ECF6\",\"subunitcolor\":\"white\",\"showland\":true,\"showlakes\":true,\"lakecolor\":\"white\"},\"title\":{\"x\":0.05},\"mapbox\":{\"style\":\"light\"}}},\"xaxis\":{\"anchor\":\"y\",\"domain\":[0.0,1.0],\"title\":{\"text\":\"x\"}},\"yaxis\":{\"anchor\":\"x\",\"domain\":[0.0,1.0],\"title\":{\"text\":\"y\"}},\"legend\":{\"tracegroupgap\":0},\"margin\":{\"t\":60}},                        {\"responsive\": true}                    ).then(function(){\n",
              "                            \n",
              "var gd = document.getElementById('3a183319-8bc9-4756-81aa-ad1352dde0e2');\n",
              "var x = new MutationObserver(function (mutations, observer) {{\n",
              "        var display = window.getComputedStyle(gd).display;\n",
              "        if (!display || display === 'none') {{\n",
              "            console.log([gd, 'removed!']);\n",
              "            Plotly.purge(gd);\n",
              "            observer.disconnect();\n",
              "        }}\n",
              "}});\n",
              "\n",
              "// Listen for the removal of the full notebook cells\n",
              "var notebookContainer = gd.closest('#notebook-container');\n",
              "if (notebookContainer) {{\n",
              "    x.observe(notebookContainer, {childList: true});\n",
              "}}\n",
              "\n",
              "// Listen for the clearing of the current output cell\n",
              "var outputEl = gd.closest('.output');\n",
              "if (outputEl) {{\n",
              "    x.observe(outputEl, {childList: true});\n",
              "}}\n",
              "\n",
              "                        })                };                            </script>        </div>\n",
              "</body>\n",
              "</html>"
            ]
          },
          "metadata": {}
        }
      ]
    },
    {
      "cell_type": "code",
      "source": [],
      "metadata": {
        "id": "uHTMNOhx4Ti5"
      },
      "execution_count": null,
      "outputs": []
    }
  ]
}