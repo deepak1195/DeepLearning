{
  "nbformat": 4,
  "nbformat_minor": 0,
  "metadata": {
    "colab": {
      "provenance": [],
      "authorship_tag": "ABX9TyO5c3Ea0ELfuP0jRrQ7UuR1",
      "include_colab_link": true
    },
    "kernelspec": {
      "name": "python3",
      "display_name": "Python 3"
    },
    "language_info": {
      "name": "python"
    }
  },
  "cells": [
    {
      "cell_type": "markdown",
      "metadata": {
        "id": "view-in-github",
        "colab_type": "text"
      },
      "source": [
        "<a href=\"https://colab.research.google.com/github/deepak1195/DeepLearning/blob/main/005_lossOrCostFunction.ipynb\" target=\"_parent\"><img src=\"https://colab.research.google.com/assets/colab-badge.svg\" alt=\"Open In Colab\"/></a>"
      ]
    },
    {
      "cell_type": "code",
      "execution_count": null,
      "metadata": {
        "id": "U8PMTPTnfLqT"
      },
      "outputs": [],
      "source": [
        "import numpy as np"
      ]
    },
    {
      "cell_type": "code",
      "source": [
        "yP=np.array([1,1,0,0,1])\n",
        "yT=np.array([0.3,0.7,1,0,0.5])"
      ],
      "metadata": {
        "id": "Il3li7QzlfuF"
      },
      "execution_count": null,
      "outputs": []
    },
    {
      "cell_type": "markdown",
      "source": [
        "### Mean Absolute Error"
      ],
      "metadata": {
        "id": "kdFu2G7Ol1Dj"
      }
    },
    {
      "cell_type": "code",
      "source": [
        "# def MAE(true,pre):\n",
        "#   tError=0\n",
        "#   for t,p in zip(true,pre):\n",
        "#     tError+=abs(t-p)\n",
        "#   return tError/len(pre)\n",
        "\n",
        "def MAE(true,pre):\n",
        "  return np.mean(np.abs(true-pre))"
      ],
      "metadata": {
        "id": "09eBfnAElvs2"
      },
      "execution_count": null,
      "outputs": []
    },
    {
      "cell_type": "code",
      "source": [
        "MAE(yT,yP)"
      ],
      "metadata": {
        "colab": {
          "base_uri": "https://localhost:8080/"
        },
        "id": "aPjlPf8gmjdn",
        "outputId": "2e0b71ce-d577-4af5-f86e-11fadac36058"
      },
      "execution_count": null,
      "outputs": [
        {
          "output_type": "execute_result",
          "data": {
            "text/plain": [
              "0.5"
            ]
          },
          "metadata": {},
          "execution_count": 4
        }
      ]
    },
    {
      "cell_type": "markdown",
      "source": [
        "### Mean Squared Error"
      ],
      "metadata": {
        "id": "K8VM2m-WFvTQ"
      }
    },
    {
      "cell_type": "code",
      "source": [
        "# def MSE(true,pre):\n",
        "#   tError=0\n",
        "#   for t,p in zip(true,pre):\n",
        "#     e=t-p\n",
        "#     tError+=e*e\n",
        "#   return tError/len(pre)\n",
        "\n",
        "def MSE(true,pre):\n",
        "  return np.mean(np.square(true-pre))"
      ],
      "metadata": {
        "id": "1sE9jAJmmnAU"
      },
      "execution_count": null,
      "outputs": []
    },
    {
      "cell_type": "code",
      "source": [
        "MSE(yT,yP)"
      ],
      "metadata": {
        "colab": {
          "base_uri": "https://localhost:8080/"
        },
        "id": "9w1NA-_rEYFo",
        "outputId": "f4caaa42-03e2-4f5f-d328-1d224b7ab1f8"
      },
      "execution_count": null,
      "outputs": [
        {
          "output_type": "execute_result",
          "data": {
            "text/plain": [
              "0.366"
            ]
          },
          "metadata": {},
          "execution_count": 6
        }
      ]
    },
    {
      "cell_type": "markdown",
      "source": [
        "### Log Loss or Binary Cross Entropy"
      ],
      "metadata": {
        "id": "CxZbqA9DJwFw"
      }
    },
    {
      "cell_type": "code",
      "source": [
        "np.log(0)"
      ],
      "metadata": {
        "colab": {
          "base_uri": "https://localhost:8080/"
        },
        "id": "cZAkj875Ei9y",
        "outputId": "061aad16-ef36-4951-a2cc-d1fc139a52cf"
      },
      "execution_count": null,
      "outputs": [
        {
          "output_type": "stream",
          "name": "stderr",
          "text": [
            "<ipython-input-7-f6e7c0610b57>:1: RuntimeWarning: divide by zero encountered in log\n",
            "  np.log(0)\n"
          ]
        },
        {
          "output_type": "execute_result",
          "data": {
            "text/plain": [
              "-inf"
            ]
          },
          "metadata": {},
          "execution_count": 7
        }
      ]
    },
    {
      "cell_type": "code",
      "source": [
        "np.log(1)"
      ],
      "metadata": {
        "colab": {
          "base_uri": "https://localhost:8080/"
        },
        "id": "7uDmvAw-wwzT",
        "outputId": "ecb1eb38-2707-423c-fdaa-1248ba7c65d4"
      },
      "execution_count": null,
      "outputs": [
        {
          "output_type": "execute_result",
          "data": {
            "text/plain": [
              "0.0"
            ]
          },
          "metadata": {},
          "execution_count": 8
        }
      ]
    },
    {
      "cell_type": "code",
      "source": [
        "eplison=1e-15"
      ],
      "metadata": {
        "id": "XI7i20fkkHRI"
      },
      "execution_count": null,
      "outputs": []
    },
    {
      "cell_type": "code",
      "source": [
        "nYp=[max(i,eplison) for i in yP]\n",
        "nYp"
      ],
      "metadata": {
        "colab": {
          "base_uri": "https://localhost:8080/"
        },
        "id": "yviNcpFlkdIU",
        "outputId": "e4e9b037-836a-4913-9e1a-cecca6e69ce7"
      },
      "execution_count": null,
      "outputs": [
        {
          "output_type": "execute_result",
          "data": {
            "text/plain": [
              "[1, 1, 1e-15, 1e-15, 1]"
            ]
          },
          "metadata": {},
          "execution_count": 10
        }
      ]
    },
    {
      "cell_type": "code",
      "source": [
        "nYp=np.array([min(i,1-eplison) for i in nYp])\n",
        "nYp"
      ],
      "metadata": {
        "colab": {
          "base_uri": "https://localhost:8080/"
        },
        "id": "rCy51PGPlQyX",
        "outputId": "3385686c-71a4-4784-ed5a-bf31669e8292"
      },
      "execution_count": null,
      "outputs": [
        {
          "output_type": "execute_result",
          "data": {
            "text/plain": [
              "array([1.e+00, 1.e+00, 1.e-15, 1.e-15, 1.e+00])"
            ]
          },
          "metadata": {},
          "execution_count": 25
        }
      ]
    },
    {
      "cell_type": "code",
      "source": [
        "np.log(nYp)"
      ],
      "metadata": {
        "colab": {
          "base_uri": "https://localhost:8080/"
        },
        "id": "NRN1pAkMlaLv",
        "outputId": "d28a7fc4-479e-466d-8aa1-5540ecbfc38c"
      },
      "execution_count": null,
      "outputs": [
        {
          "output_type": "execute_result",
          "data": {
            "text/plain": [
              "array([-9.99200722e-16, -9.99200722e-16, -3.45387764e+01, -3.45387764e+01,\n",
              "       -9.99200722e-16])"
            ]
          },
          "metadata": {},
          "execution_count": 26
        }
      ]
    },
    {
      "cell_type": "code",
      "source": [
        "-np.mean(yT*np.log(nYp)+(1-yT)*np.log(1-nYp))"
      ],
      "metadata": {
        "colab": {
          "base_uri": "https://localhost:8080/"
        },
        "id": "hXcb97eEQRCq",
        "outputId": "83b865cb-a38b-4933-ee83-ee70302d1673"
      },
      "execution_count": null,
      "outputs": [
        {
          "output_type": "execute_result",
          "data": {
            "text/plain": [
              "17.2696280766844"
            ]
          },
          "metadata": {},
          "execution_count": 27
        }
      ]
    },
    {
      "cell_type": "code",
      "source": [
        "def logLoss(yT,yP):\n",
        "  eplison=1e-15\n",
        "  nYp=[max(i,eplison) for i in yP]\n",
        "  nYp=np.array([min(i,1-eplison) for i in nYp])\n",
        "  return -np.mean(yT*np.log(nYp)+(1-yT)*np.log(1-nYp))"
      ],
      "metadata": {
        "id": "zu0IgHgcQuBV"
      },
      "execution_count": null,
      "outputs": []
    },
    {
      "cell_type": "code",
      "source": [
        "logLoss(yT,yP)"
      ],
      "metadata": {
        "colab": {
          "base_uri": "https://localhost:8080/"
        },
        "id": "CY0UKHTCQ7kf",
        "outputId": "d360d05e-ed66-4f14-93af-96cbf0d6ecd4"
      },
      "execution_count": null,
      "outputs": [
        {
          "output_type": "execute_result",
          "data": {
            "text/plain": [
              "17.2696280766844"
            ]
          },
          "metadata": {},
          "execution_count": 31
        }
      ]
    },
    {
      "cell_type": "code",
      "source": [],
      "metadata": {
        "id": "5mB8cQOOQ_u4"
      },
      "execution_count": null,
      "outputs": []
    },
    {
      "cell_type": "code",
      "source": [],
      "metadata": {
        "id": "ZbsQPlUnReJX"
      },
      "execution_count": null,
      "outputs": []
    }
  ]
}