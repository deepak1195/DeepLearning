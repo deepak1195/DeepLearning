{
  "nbformat": 4,
  "nbformat_minor": 0,
  "metadata": {
    "colab": {
      "provenance": [],
      "authorship_tag": "ABX9TyMJxOMFtv5/QBoZmJ5MOuAN",
      "include_colab_link": true
    },
    "kernelspec": {
      "name": "python3",
      "display_name": "Python 3"
    },
    "language_info": {
      "name": "python"
    }
  },
  "cells": [
    {
      "cell_type": "markdown",
      "metadata": {
        "id": "view-in-github",
        "colab_type": "text"
      },
      "source": [
        "<a href=\"https://colab.research.google.com/github/deepak1195/DeepLearning/blob/main/004_BasicMatrixOperation.ipynb\" target=\"_parent\"><img src=\"https://colab.research.google.com/assets/colab-badge.svg\" alt=\"Open In Colab\"/></a>"
      ]
    },
    {
      "cell_type": "code",
      "execution_count": null,
      "metadata": {
        "id": "G_V8lM2n3yjA"
      },
      "outputs": [],
      "source": [
        "import numpy as np"
      ]
    },
    {
      "cell_type": "markdown",
      "source": [
        "### Creating nxm Matrix"
      ],
      "metadata": {
        "id": "AYSzvye2-fPx"
      }
    },
    {
      "cell_type": "code",
      "source": [
        "revInDollars=np.array([[200,220,250],[68,79,105],[110,140,180],[80,85,90]])\n",
        "revInDollars"
      ],
      "metadata": {
        "colab": {
          "base_uri": "https://localhost:8080/"
        },
        "id": "IqgMeIwb4l0m",
        "outputId": "902509a1-d9e0-4d9e-c92b-6b01e1d7b012"
      },
      "execution_count": null,
      "outputs": [
        {
          "output_type": "execute_result",
          "data": {
            "text/plain": [
              "array([[200, 220, 250],\n",
              "       [ 68,  79, 105],\n",
              "       [110, 140, 180],\n",
              "       [ 80,  85,  90]])"
            ]
          },
          "metadata": {},
          "execution_count": 3
        }
      ]
    },
    {
      "cell_type": "markdown",
      "source": [
        "### Multiplying Scalar value with Matrix"
      ],
      "metadata": {
        "id": "ank0TbEw-z7X"
      }
    },
    {
      "cell_type": "code",
      "source": [
        "revInDollars*75"
      ],
      "metadata": {
        "colab": {
          "base_uri": "https://localhost:8080/"
        },
        "id": "SBWB4b6W4oyx",
        "outputId": "135805bc-8913-422a-a2d7-37122da5e89c"
      },
      "execution_count": null,
      "outputs": [
        {
          "output_type": "execute_result",
          "data": {
            "text/plain": [
              "array([[15000, 16500, 18750],\n",
              "       [ 5100,  5925,  7875],\n",
              "       [ 8250, 10500, 13500],\n",
              "       [ 6000,  6375,  6750]])"
            ]
          },
          "metadata": {},
          "execution_count": 4
        }
      ]
    },
    {
      "cell_type": "markdown",
      "source": [],
      "metadata": {
        "id": "dSajfVsaMh7k"
      }
    },
    {
      "cell_type": "code",
      "source": [
        "unitSold=np.array([[50,60,25],[10,13,5],[40,70,52]])\n",
        "unitSold"
      ],
      "metadata": {
        "colab": {
          "base_uri": "https://localhost:8080/"
        },
        "id": "oRLqVbql40nw",
        "outputId": "03f6a1d5-3351-4fdb-e228-f4af5494f2aa"
      },
      "execution_count": null,
      "outputs": [
        {
          "output_type": "execute_result",
          "data": {
            "text/plain": [
              "array([[50, 60, 25],\n",
              "       [10, 13,  5],\n",
              "       [40, 70, 52]])"
            ]
          },
          "metadata": {},
          "execution_count": 5
        }
      ]
    },
    {
      "cell_type": "code",
      "source": [
        "ppu=np.array([20,30,15])\n",
        "ppu"
      ],
      "metadata": {
        "colab": {
          "base_uri": "https://localhost:8080/"
        },
        "id": "UaiBaNEF43t4",
        "outputId": "0b052cd7-b3bb-4eb0-a935-f73cddbe353a"
      },
      "execution_count": null,
      "outputs": [
        {
          "output_type": "execute_result",
          "data": {
            "text/plain": [
              "array([20, 30, 15])"
            ]
          },
          "metadata": {},
          "execution_count": 6
        }
      ]
    },
    {
      "cell_type": "markdown",
      "source": [
        "### Multiplying nx1 Matrix with nxn Matrix"
      ],
      "metadata": {
        "id": "xuVsS1-sUqgU"
      }
    },
    {
      "cell_type": "code",
      "source": [
        "unitSold*ppu"
      ],
      "metadata": {
        "colab": {
          "base_uri": "https://localhost:8080/"
        },
        "id": "A58SJLf5eobw",
        "outputId": "38cb2abd-84d1-4e54-fbb9-e8bbf6d7979a"
      },
      "execution_count": null,
      "outputs": [
        {
          "output_type": "execute_result",
          "data": {
            "text/plain": [
              "array([[1000, 1800,  375],\n",
              "       [ 200,  390,   75],\n",
              "       [ 800, 2100,  780]])"
            ]
          },
          "metadata": {},
          "execution_count": 7
        }
      ]
    },
    {
      "cell_type": "markdown",
      "source": [
        "### Dot Product"
      ],
      "metadata": {
        "id": "AC1EQ8qmWCT_"
      }
    },
    {
      "cell_type": "code",
      "source": [
        "np.dot(unitSold,ppu)"
      ],
      "metadata": {
        "colab": {
          "base_uri": "https://localhost:8080/"
        },
        "id": "rliaPM2s46Wa",
        "outputId": "9d924918-51ad-47f3-a692-e58f88799ac4"
      },
      "execution_count": null,
      "outputs": [
        {
          "output_type": "execute_result",
          "data": {
            "text/plain": [
              "array([3175,  665, 3680])"
            ]
          },
          "metadata": {},
          "execution_count": 8
        }
      ]
    },
    {
      "cell_type": "code",
      "source": [],
      "metadata": {
        "id": "dy-x6igG494Z"
      },
      "execution_count": null,
      "outputs": []
    }
  ]
}